{
 "cells": [
  {
   "cell_type": "code",
   "execution_count": 1,
   "metadata": {},
   "outputs": [],
   "source": [
    "import pandas as pd \n",
    "from sqlalchemy import create_engine\n",
    "from passwords import sql_password"
   ]
  },
  {
   "cell_type": "code",
   "execution_count": 2,
   "metadata": {},
   "outputs": [],
   "source": [
    "ranks_df = pd.read_csv('resources/rankings.csv')\n",
    "ranks_df.head()\n",
    "ranks_df.sort_values('team', inplace=True)\n",
    "ranks_df.drop(columns = 'team', inplace=True)\n",
    "ranks_df.index += 1\n",
    "ranks_df.rename_axis(\"team_id\", axis=0, inplace=True)\n",
    "ranks_df.reset_index(level=0, inplace=True)\n",
    "ranks_df['ranking'] = ranks_df['rank']\n",
    "ranks_df = ranks_df[['team_id','ranking','record']]"
   ]
  },
  {
   "cell_type": "code",
   "execution_count": 3,
   "metadata": {},
   "outputs": [],
   "source": [
    "rds_connection_string = f\"postgres:{sql_password}@localhost:5432/nfl_db\"\n",
    "engine = create_engine(f'postgresql://{rds_connection_string}')"
   ]
  },
  {
   "cell_type": "code",
   "execution_count": 4,
   "metadata": {},
   "outputs": [
    {
     "output_type": "execute_result",
     "data": {
      "text/plain": [
       "['all_stats', 'allowed_all_stats', 'teams']"
      ]
     },
     "metadata": {},
     "execution_count": 4
    }
   ],
   "source": [
    "engine.table_names()\n"
   ]
  },
  {
   "cell_type": "code",
   "execution_count": 5,
   "metadata": {},
   "outputs": [],
   "source": [
    "ranks_df.to_sql(name='rankings', con=engine, if_exists='append',index=False)"
   ]
  },
  {
   "cell_type": "code",
   "execution_count": null,
   "metadata": {},
   "outputs": [],
   "source": []
  }
 ],
 "metadata": {
  "kernelspec": {
   "display_name": "Python 3",
   "language": "python",
   "name": "python3"
  },
  "language_info": {
   "codemirror_mode": {
    "name": "ipython",
    "version": 3
   },
   "file_extension": ".py",
   "mimetype": "text/x-python",
   "name": "python",
   "nbconvert_exporter": "python",
   "pygments_lexer": "ipython3",
   "version": "3.8.3-final"
  }
 },
 "nbformat": 4,
 "nbformat_minor": 4
}
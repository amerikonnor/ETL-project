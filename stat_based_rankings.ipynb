{
 "metadata": {
  "language_info": {
   "codemirror_mode": {
    "name": "ipython",
    "version": 3
   },
   "file_extension": ".py",
   "mimetype": "text/x-python",
   "name": "python",
   "nbconvert_exporter": "python",
   "pygments_lexer": "ipython3",
   "version": "3.8.3-final"
  },
  "orig_nbformat": 2,
  "kernelspec": {
   "name": "python3",
   "display_name": "Python 3",
   "language": "python"
  }
 },
 "nbformat": 4,
 "nbformat_minor": 2,
 "cells": [
  {
   "cell_type": "code",
   "execution_count": 20,
   "metadata": {},
   "outputs": [],
   "source": [
    "import pandas as pd \n",
    "from sqlalchemy import create_engine\n",
    "from passwords import sql_password"
   ]
  },
  {
   "cell_type": "code",
   "execution_count": 21,
   "metadata": {},
   "outputs": [],
   "source": [
    "rds_connection_string = f\"postgres:{sql_password}@localhost:5432/nfl_db\"\n",
    "engine = create_engine(f'postgresql://{rds_connection_string}')"
   ]
  },
  {
   "cell_type": "code",
   "execution_count": 22,
   "metadata": {},
   "outputs": [
    {
     "output_type": "execute_result",
     "data": {
      "text/plain": [
       "   team_id total_first_downs first_downs_rush_pass_penalty  \\\n",
       "0        1               381                136 - 211 - 34   \n",
       "1        2               366                 86 - 243 - 37   \n",
       "2        3               327                166 - 142 - 19   \n",
       "3        4               397                119 - 240 - 38   \n",
       "4        5               335                110 - 192 - 33   \n",
       "\n",
       "  third_down_conversions fourth_down_conversions total_offensive  \\\n",
       "0               80 / 202                 17 / 25            6153   \n",
       "1               97 / 221                 15 / 26            5895   \n",
       "2              101 / 207                 12 / 19            5810   \n",
       "3               93 / 187                  8 / 10            6343   \n",
       "4               76 / 195                 15 / 27            5592   \n",
       "\n",
       "  offense_plays_avg total_rushing rushing_plays_avg total_passing  \\\n",
       "0        1083 - 5.7          2237         479 - 4.7          3916   \n",
       "1        1078 - 5.5          1532         409 - 3.7          4363   \n",
       "2         993 - 5.9          3071         555 - 5.5          2739   \n",
       "3        1034 - 6.1          1723         411 - 4.2          4620   \n",
       "4         993 - 5.6          1704         407 - 4.2          3888   \n",
       "\n",
       "  passing_comp_att_int_avg sacks field_goals touchdowns  \\\n",
       "0     387 - 575 - 13 - 7.1    48     23 / 30         49   \n",
       "1     408 - 628 - 11 - 7.4    29     38 / 40         41   \n",
       "2     257 - 406 - 11 - 7.2    39     26 / 29         55   \n",
       "3     410 - 596 - 11 - 8.0    38     28 / 34         60   \n",
       "4     373 - 550 - 16 - 7.5    29     29 / 36         38   \n",
       "\n",
       "  touchdowns_rush_pass_returns_def avg_possesion turnover_ratio  \n",
       "0                  22 - 27 - 0 - 0         29:03              0  \n",
       "1                  13 - 27 - 0 - 1         30:41              3  \n",
       "2                  24 - 27 - 1 - 3         31:30              4  \n",
       "3                  16 - 40 - 1 - 3         31:45              4  \n",
       "4                  19 - 16 - 0 - 3         30:59              1  "
      ],
      "text/html": "<div>\n<style scoped>\n    .dataframe tbody tr th:only-of-type {\n        vertical-align: middle;\n    }\n\n    .dataframe tbody tr th {\n        vertical-align: top;\n    }\n\n    .dataframe thead th {\n        text-align: right;\n    }\n</style>\n<table border=\"1\" class=\"dataframe\">\n  <thead>\n    <tr style=\"text-align: right;\">\n      <th></th>\n      <th>team_id</th>\n      <th>total_first_downs</th>\n      <th>first_downs_rush_pass_penalty</th>\n      <th>third_down_conversions</th>\n      <th>fourth_down_conversions</th>\n      <th>total_offensive</th>\n      <th>offense_plays_avg</th>\n      <th>total_rushing</th>\n      <th>rushing_plays_avg</th>\n      <th>total_passing</th>\n      <th>passing_comp_att_int_avg</th>\n      <th>sacks</th>\n      <th>field_goals</th>\n      <th>touchdowns</th>\n      <th>touchdowns_rush_pass_returns_def</th>\n      <th>avg_possesion</th>\n      <th>turnover_ratio</th>\n    </tr>\n  </thead>\n  <tbody>\n    <tr>\n      <th>0</th>\n      <td>1</td>\n      <td>381</td>\n      <td>136 - 211 - 34</td>\n      <td>80 / 202</td>\n      <td>17 / 25</td>\n      <td>6153</td>\n      <td>1083 - 5.7</td>\n      <td>2237</td>\n      <td>479 - 4.7</td>\n      <td>3916</td>\n      <td>387 - 575 - 13 - 7.1</td>\n      <td>48</td>\n      <td>23 / 30</td>\n      <td>49</td>\n      <td>22 - 27 - 0 - 0</td>\n      <td>29:03</td>\n      <td>0</td>\n    </tr>\n    <tr>\n      <th>1</th>\n      <td>2</td>\n      <td>366</td>\n      <td>86 - 243 - 37</td>\n      <td>97 / 221</td>\n      <td>15 / 26</td>\n      <td>5895</td>\n      <td>1078 - 5.5</td>\n      <td>1532</td>\n      <td>409 - 3.7</td>\n      <td>4363</td>\n      <td>408 - 628 - 11 - 7.4</td>\n      <td>29</td>\n      <td>38 / 40</td>\n      <td>41</td>\n      <td>13 - 27 - 0 - 1</td>\n      <td>30:41</td>\n      <td>3</td>\n    </tr>\n    <tr>\n      <th>2</th>\n      <td>3</td>\n      <td>327</td>\n      <td>166 - 142 - 19</td>\n      <td>101 / 207</td>\n      <td>12 / 19</td>\n      <td>5810</td>\n      <td>993 - 5.9</td>\n      <td>3071</td>\n      <td>555 - 5.5</td>\n      <td>2739</td>\n      <td>257 - 406 - 11 - 7.2</td>\n      <td>39</td>\n      <td>26 / 29</td>\n      <td>55</td>\n      <td>24 - 27 - 1 - 3</td>\n      <td>31:30</td>\n      <td>4</td>\n    </tr>\n    <tr>\n      <th>3</th>\n      <td>4</td>\n      <td>397</td>\n      <td>119 - 240 - 38</td>\n      <td>93 / 187</td>\n      <td>8 / 10</td>\n      <td>6343</td>\n      <td>1034 - 6.1</td>\n      <td>1723</td>\n      <td>411 - 4.2</td>\n      <td>4620</td>\n      <td>410 - 596 - 11 - 8.0</td>\n      <td>38</td>\n      <td>28 / 34</td>\n      <td>60</td>\n      <td>16 - 40 - 1 - 3</td>\n      <td>31:45</td>\n      <td>4</td>\n    </tr>\n    <tr>\n      <th>4</th>\n      <td>5</td>\n      <td>335</td>\n      <td>110 - 192 - 33</td>\n      <td>76 / 195</td>\n      <td>15 / 27</td>\n      <td>5592</td>\n      <td>993 - 5.6</td>\n      <td>1704</td>\n      <td>407 - 4.2</td>\n      <td>3888</td>\n      <td>373 - 550 - 16 - 7.5</td>\n      <td>29</td>\n      <td>29 / 36</td>\n      <td>38</td>\n      <td>19 - 16 - 0 - 3</td>\n      <td>30:59</td>\n      <td>1</td>\n    </tr>\n  </tbody>\n</table>\n</div>"
     },
     "metadata": {},
     "execution_count": 22
    }
   ],
   "source": [
    "home_stats_df = pd.read_sql_query('select * from all_stats', con=engine)\n",
    "home_stats_df.head()"
   ]
  },
  {
   "cell_type": "code",
   "execution_count": 23,
   "metadata": {},
   "outputs": [
    {
     "output_type": "execute_result",
     "data": {
      "text/plain": [
       "['team_id',\n",
       " 'total_first_downs',\n",
       " 'third_down_conversions',\n",
       " 'fourth_down_conversions',\n",
       " 'total_offensive',\n",
       " 'total_rushing',\n",
       " 'total_passing',\n",
       " 'sacks',\n",
       " 'field_goals',\n",
       " 'touchdowns',\n",
       " 'avg_possesion',\n",
       " 'turnover_ratio']"
      ]
     },
     "metadata": {},
     "execution_count": 23
    }
   ],
   "source": [
    "working_df = home_stats_df\n",
    "working_df['ranking_points'] = 0\n",
    "columns = working_df.columns.to_list()\n",
    "columns.remove('first_downs_rush_pass_penalty')\n",
    "columns.remove('offense_plays_avg')\n",
    "columns.remove('rushing_plays_avg')\n",
    "columns.remove('passing_comp_att_int_avg')\n",
    "columns.remove('touchdowns_rush_pass_returns_def')\n",
    "columns.remove('ranking_points')\n",
    "\n",
    "columns"
   ]
  },
  {
   "cell_type": "code",
   "execution_count": 24,
   "metadata": {},
   "outputs": [
    {
     "output_type": "execute_result",
     "data": {
      "text/plain": [
       "   team_id total_first_downs first_downs_rush_pass_penalty  \\\n",
       "0        1               381                136 - 211 - 34   \n",
       "1        2               366                 86 - 243 - 37   \n",
       "2        3               327                166 - 142 - 19   \n",
       "3        4               397                119 - 240 - 38   \n",
       "4        5               335                110 - 192 - 33   \n",
       "\n",
       "   third_down_conversions fourth_down_conversions total_offensive  \\\n",
       "0                0.396040                 17 / 25            6153   \n",
       "1                0.438914                 15 / 26            5895   \n",
       "2                0.487923                 12 / 19            5810   \n",
       "3                0.497326                  8 / 10            6343   \n",
       "4                0.389744                 15 / 27            5592   \n",
       "\n",
       "  offense_plays_avg total_rushing rushing_plays_avg total_passing  \\\n",
       "0        1083 - 5.7          2237         479 - 4.7          3916   \n",
       "1        1078 - 5.5          1532         409 - 3.7          4363   \n",
       "2         993 - 5.9          3071         555 - 5.5          2739   \n",
       "3        1034 - 6.1          1723         411 - 4.2          4620   \n",
       "4         993 - 5.6          1704         407 - 4.2          3888   \n",
       "\n",
       "  passing_comp_att_int_avg sacks field_goals touchdowns  \\\n",
       "0     387 - 575 - 13 - 7.1    48     23 / 30         49   \n",
       "1     408 - 628 - 11 - 7.4    29     38 / 40         41   \n",
       "2     257 - 406 - 11 - 7.2    39     26 / 29         55   \n",
       "3     410 - 596 - 11 - 8.0    38     28 / 34         60   \n",
       "4     373 - 550 - 16 - 7.5    29     29 / 36         38   \n",
       "\n",
       "  touchdowns_rush_pass_returns_def avg_possesion turnover_ratio  \\\n",
       "0                  22 - 27 - 0 - 0         29:03              0   \n",
       "1                  13 - 27 - 0 - 1         30:41              3   \n",
       "2                  24 - 27 - 1 - 3         31:30              4   \n",
       "3                  16 - 40 - 1 - 3         31:45              4   \n",
       "4                  19 - 16 - 0 - 3         30:59              1   \n",
       "\n",
       "   ranking_points  \n",
       "0               0  \n",
       "1               0  \n",
       "2               0  \n",
       "3               0  \n",
       "4               0  "
      ],
      "text/html": "<div>\n<style scoped>\n    .dataframe tbody tr th:only-of-type {\n        vertical-align: middle;\n    }\n\n    .dataframe tbody tr th {\n        vertical-align: top;\n    }\n\n    .dataframe thead th {\n        text-align: right;\n    }\n</style>\n<table border=\"1\" class=\"dataframe\">\n  <thead>\n    <tr style=\"text-align: right;\">\n      <th></th>\n      <th>team_id</th>\n      <th>total_first_downs</th>\n      <th>first_downs_rush_pass_penalty</th>\n      <th>third_down_conversions</th>\n      <th>fourth_down_conversions</th>\n      <th>total_offensive</th>\n      <th>offense_plays_avg</th>\n      <th>total_rushing</th>\n      <th>rushing_plays_avg</th>\n      <th>total_passing</th>\n      <th>passing_comp_att_int_avg</th>\n      <th>sacks</th>\n      <th>field_goals</th>\n      <th>touchdowns</th>\n      <th>touchdowns_rush_pass_returns_def</th>\n      <th>avg_possesion</th>\n      <th>turnover_ratio</th>\n      <th>ranking_points</th>\n    </tr>\n  </thead>\n  <tbody>\n    <tr>\n      <th>0</th>\n      <td>1</td>\n      <td>381</td>\n      <td>136 - 211 - 34</td>\n      <td>0.396040</td>\n      <td>17 / 25</td>\n      <td>6153</td>\n      <td>1083 - 5.7</td>\n      <td>2237</td>\n      <td>479 - 4.7</td>\n      <td>3916</td>\n      <td>387 - 575 - 13 - 7.1</td>\n      <td>48</td>\n      <td>23 / 30</td>\n      <td>49</td>\n      <td>22 - 27 - 0 - 0</td>\n      <td>29:03</td>\n      <td>0</td>\n      <td>0</td>\n    </tr>\n    <tr>\n      <th>1</th>\n      <td>2</td>\n      <td>366</td>\n      <td>86 - 243 - 37</td>\n      <td>0.438914</td>\n      <td>15 / 26</td>\n      <td>5895</td>\n      <td>1078 - 5.5</td>\n      <td>1532</td>\n      <td>409 - 3.7</td>\n      <td>4363</td>\n      <td>408 - 628 - 11 - 7.4</td>\n      <td>29</td>\n      <td>38 / 40</td>\n      <td>41</td>\n      <td>13 - 27 - 0 - 1</td>\n      <td>30:41</td>\n      <td>3</td>\n      <td>0</td>\n    </tr>\n    <tr>\n      <th>2</th>\n      <td>3</td>\n      <td>327</td>\n      <td>166 - 142 - 19</td>\n      <td>0.487923</td>\n      <td>12 / 19</td>\n      <td>5810</td>\n      <td>993 - 5.9</td>\n      <td>3071</td>\n      <td>555 - 5.5</td>\n      <td>2739</td>\n      <td>257 - 406 - 11 - 7.2</td>\n      <td>39</td>\n      <td>26 / 29</td>\n      <td>55</td>\n      <td>24 - 27 - 1 - 3</td>\n      <td>31:30</td>\n      <td>4</td>\n      <td>0</td>\n    </tr>\n    <tr>\n      <th>3</th>\n      <td>4</td>\n      <td>397</td>\n      <td>119 - 240 - 38</td>\n      <td>0.497326</td>\n      <td>8 / 10</td>\n      <td>6343</td>\n      <td>1034 - 6.1</td>\n      <td>1723</td>\n      <td>411 - 4.2</td>\n      <td>4620</td>\n      <td>410 - 596 - 11 - 8.0</td>\n      <td>38</td>\n      <td>28 / 34</td>\n      <td>60</td>\n      <td>16 - 40 - 1 - 3</td>\n      <td>31:45</td>\n      <td>4</td>\n      <td>0</td>\n    </tr>\n    <tr>\n      <th>4</th>\n      <td>5</td>\n      <td>335</td>\n      <td>110 - 192 - 33</td>\n      <td>0.389744</td>\n      <td>15 / 27</td>\n      <td>5592</td>\n      <td>993 - 5.6</td>\n      <td>1704</td>\n      <td>407 - 4.2</td>\n      <td>3888</td>\n      <td>373 - 550 - 16 - 7.5</td>\n      <td>29</td>\n      <td>29 / 36</td>\n      <td>38</td>\n      <td>19 - 16 - 0 - 3</td>\n      <td>30:59</td>\n      <td>1</td>\n      <td>0</td>\n    </tr>\n  </tbody>\n</table>\n</div>"
     },
     "metadata": {},
     "execution_count": 24
    }
   ],
   "source": [
    "working_df = home_stats_df\n",
    "third_down_pct = working_df['third_down_conversions'].to_list()\n",
    "for item in third_down_pct:\n",
    "    new_item = item.replace(' ','')\n",
    "    new_item = new_item.split('/')\n",
    "    third_down_pct[third_down_pct.index(item)] = float(new_item[0])/float(new_item[1])\n",
    "third_down_pct\n",
    "working_df['third_down_conversions'] = third_down_pct\n",
    "working_df.head()"
   ]
  },
  {
   "cell_type": "code",
   "execution_count": null,
   "metadata": {},
   "outputs": [],
   "source": [
    "working_df = home_stats_df\n",
    "fourth_down_pct = working_df['fourth_down_conversions'].to_list()\n",
    "for item in fourth_down_pct:\n",
    "    new_item = item.replace(' ','')\n",
    "    new_item = new_item.split('/')\n",
    "    fourth_down_pct[fourth_down_pct.index(item)] = float(new_item[0])/float(new_item[1])\n",
    "fourth_down_pct\n",
    "working_df['fourth_down_conversions'] = fourth_down_pct\n",
    "working_df.head()"
   ]
  },
  {
   "cell_type": "code",
   "execution_count": 25,
   "metadata": {},
   "outputs": [],
   "source": [
    "for column in columns:\n",
    "    working_df = working_df.sort_values(by=column)\n",
    "    working_df = working_df.reset_index(drop=True)\n",
    "    working_df['ranking_points'] = working_df['ranking_points'] + working_df.index"
   ]
  },
  {
   "cell_type": "code",
   "execution_count": 26,
   "metadata": {},
   "outputs": [
    {
     "output_type": "execute_result",
     "data": {
      "text/plain": [
       "   team_id total_first_downs first_downs_rush_pass_penalty  \\\n",
       "0       21               383                139 - 212 - 32   \n",
       "1       26               336                114 - 177 - 45   \n",
       "2       28               350                101 - 217 - 32   \n",
       "3       17               359                121 - 206 - 32   \n",
       "4       10               308                 94 - 176 - 38   \n",
       "\n",
       "   third_down_conversions fourth_down_conversions total_offensive  \\\n",
       "0                0.408840                 13 / 23            6292   \n",
       "1                0.372727                 15 / 35            5354   \n",
       "2                0.390863                  6 / 15            5922   \n",
       "3                0.459596                 16 / 21            6133   \n",
       "4                0.386792                  4 / 15            5369   \n",
       "\n",
       "  offense_plays_avg total_rushing rushing_plays_avg total_passing  \\\n",
       "0        1023 - 6.2          2283         468 - 4.9          4009   \n",
       "1        1066 - 5.0          2027         403 - 5.0          3327   \n",
       "2        1046 - 5.7          1889         437 - 4.3          4033   \n",
       "3        1036 - 5.9          1916         457 - 4.2          4217   \n",
       "4        1030 - 5.2          1918         442 - 4.3          3451   \n",
       "\n",
       "  passing_comp_att_int_avg sacks field_goals touchdowns  \\\n",
       "0     349 - 516 - 13 - 8.3    23     15 / 22         55   \n",
       "1     334 - 598 - 20 - 6.2    49     14 / 19         42   \n",
       "2     371 - 570 - 17 - 7.6    30     22 / 26         45   \n",
       "3     369 - 551 - 10 - 8.0    21     33 / 35         48   \n",
       "4     317 - 556 - 23 - 6.6    42     28 / 35         35   \n",
       "\n",
       "  touchdowns_rush_pass_returns_def avg_possesion turnover_ratio  \\\n",
       "0                  20 - 35 - 0 - 0         30:02             -1   \n",
       "1                  16 - 22 - 1 - 3         29:15            -10   \n",
       "2                  19 - 25 - 0 - 1         31:23            -11   \n",
       "3                  20 - 28 - 0 - 0         31:04            -11   \n",
       "4                  13 - 21 - 1 - 0         28:58            -16   \n",
       "\n",
       "   ranking_points  \n",
       "0             187  \n",
       "1             140  \n",
       "2             185  \n",
       "3             215  \n",
       "4             132  "
      ],
      "text/html": "<div>\n<style scoped>\n    .dataframe tbody tr th:only-of-type {\n        vertical-align: middle;\n    }\n\n    .dataframe tbody tr th {\n        vertical-align: top;\n    }\n\n    .dataframe thead th {\n        text-align: right;\n    }\n</style>\n<table border=\"1\" class=\"dataframe\">\n  <thead>\n    <tr style=\"text-align: right;\">\n      <th></th>\n      <th>team_id</th>\n      <th>total_first_downs</th>\n      <th>first_downs_rush_pass_penalty</th>\n      <th>third_down_conversions</th>\n      <th>fourth_down_conversions</th>\n      <th>total_offensive</th>\n      <th>offense_plays_avg</th>\n      <th>total_rushing</th>\n      <th>rushing_plays_avg</th>\n      <th>total_passing</th>\n      <th>passing_comp_att_int_avg</th>\n      <th>sacks</th>\n      <th>field_goals</th>\n      <th>touchdowns</th>\n      <th>touchdowns_rush_pass_returns_def</th>\n      <th>avg_possesion</th>\n      <th>turnover_ratio</th>\n      <th>ranking_points</th>\n    </tr>\n  </thead>\n  <tbody>\n    <tr>\n      <th>0</th>\n      <td>21</td>\n      <td>383</td>\n      <td>139 - 212 - 32</td>\n      <td>0.408840</td>\n      <td>13 / 23</td>\n      <td>6292</td>\n      <td>1023 - 6.2</td>\n      <td>2283</td>\n      <td>468 - 4.9</td>\n      <td>4009</td>\n      <td>349 - 516 - 13 - 8.3</td>\n      <td>23</td>\n      <td>15 / 22</td>\n      <td>55</td>\n      <td>20 - 35 - 0 - 0</td>\n      <td>30:02</td>\n      <td>-1</td>\n      <td>187</td>\n    </tr>\n    <tr>\n      <th>1</th>\n      <td>26</td>\n      <td>336</td>\n      <td>114 - 177 - 45</td>\n      <td>0.372727</td>\n      <td>15 / 35</td>\n      <td>5354</td>\n      <td>1066 - 5.0</td>\n      <td>2027</td>\n      <td>403 - 5.0</td>\n      <td>3327</td>\n      <td>334 - 598 - 20 - 6.2</td>\n      <td>49</td>\n      <td>14 / 19</td>\n      <td>42</td>\n      <td>16 - 22 - 1 - 3</td>\n      <td>29:15</td>\n      <td>-10</td>\n      <td>140</td>\n    </tr>\n    <tr>\n      <th>2</th>\n      <td>28</td>\n      <td>350</td>\n      <td>101 - 217 - 32</td>\n      <td>0.390863</td>\n      <td>6 / 15</td>\n      <td>5922</td>\n      <td>1046 - 5.7</td>\n      <td>1889</td>\n      <td>437 - 4.3</td>\n      <td>4033</td>\n      <td>371 - 570 - 17 - 7.6</td>\n      <td>30</td>\n      <td>22 / 26</td>\n      <td>45</td>\n      <td>19 - 25 - 0 - 1</td>\n      <td>31:23</td>\n      <td>-11</td>\n      <td>185</td>\n    </tr>\n    <tr>\n      <th>3</th>\n      <td>17</td>\n      <td>359</td>\n      <td>121 - 206 - 32</td>\n      <td>0.459596</td>\n      <td>16 / 21</td>\n      <td>6133</td>\n      <td>1036 - 5.9</td>\n      <td>1916</td>\n      <td>457 - 4.2</td>\n      <td>4217</td>\n      <td>369 - 551 - 10 - 8.0</td>\n      <td>21</td>\n      <td>33 / 35</td>\n      <td>48</td>\n      <td>20 - 28 - 0 - 0</td>\n      <td>31:04</td>\n      <td>-11</td>\n      <td>215</td>\n    </tr>\n    <tr>\n      <th>4</th>\n      <td>10</td>\n      <td>308</td>\n      <td>94 - 176 - 38</td>\n      <td>0.386792</td>\n      <td>4 / 15</td>\n      <td>5369</td>\n      <td>1030 - 5.2</td>\n      <td>1918</td>\n      <td>442 - 4.3</td>\n      <td>3451</td>\n      <td>317 - 556 - 23 - 6.6</td>\n      <td>42</td>\n      <td>28 / 35</td>\n      <td>35</td>\n      <td>13 - 21 - 1 - 0</td>\n      <td>28:58</td>\n      <td>-16</td>\n      <td>132</td>\n    </tr>\n  </tbody>\n</table>\n</div>"
     },
     "metadata": {},
     "execution_count": 26
    }
   ],
   "source": [
    "working_df.head()"
   ]
  },
  {
   "cell_type": "code",
   "execution_count": 27,
   "metadata": {},
   "outputs": [],
   "source": [
    "working_df = working_df.sort_values(by='ranking_points',ascending=False)\n",
    "working_df = working_df.reset_index(drop=True)\n",
    "working_df['ranking'] = working_df.index + 1\n",
    "working_df = working_df.sort_values(by='team_id')\n",
    "home_stats_df['ranking'] = working_df['ranking']"
   ]
  },
  {
   "cell_type": "code",
   "execution_count": 28,
   "metadata": {},
   "outputs": [
    {
     "output_type": "execute_result",
     "data": {
      "text/plain": [
       "    team_id total_first_downs first_downs_rush_pass_penalty  \\\n",
       "13        1               381                136 - 211 - 34   \n",
       "15        2               366                 86 - 243 - 37   \n",
       "14        3               327                166 - 142 - 19   \n",
       "1         4               397                119 - 240 - 38   \n",
       "22        5               335                110 - 192 - 33   \n",
       "\n",
       "    third_down_conversions fourth_down_conversions total_offensive  \\\n",
       "13                0.396040                 17 / 25            6153   \n",
       "15                0.438914                 15 / 26            5895   \n",
       "14                0.487923                 12 / 19            5810   \n",
       "1                 0.497326                  8 / 10            6343   \n",
       "22                0.389744                 15 / 27            5592   \n",
       "\n",
       "   offense_plays_avg total_rushing rushing_plays_avg total_passing  \\\n",
       "13        1083 - 5.7          2237         479 - 4.7          3916   \n",
       "15        1078 - 5.5          1532         409 - 3.7          4363   \n",
       "14         993 - 5.9          3071         555 - 5.5          2739   \n",
       "1         1034 - 6.1          1723         411 - 4.2          4620   \n",
       "22         993 - 5.6          1704         407 - 4.2          3888   \n",
       "\n",
       "   passing_comp_att_int_avg sacks field_goals touchdowns  \\\n",
       "13     387 - 575 - 13 - 7.1    48     23 / 30         49   \n",
       "15     408 - 628 - 11 - 7.4    29     38 / 40         41   \n",
       "14     257 - 406 - 11 - 7.2    39     26 / 29         55   \n",
       "1      410 - 596 - 11 - 8.0    38     28 / 34         60   \n",
       "22     373 - 550 - 16 - 7.5    29     29 / 36         38   \n",
       "\n",
       "   touchdowns_rush_pass_returns_def avg_possesion turnover_ratio  \\\n",
       "13                  22 - 27 - 0 - 0         29:03              0   \n",
       "15                  13 - 27 - 0 - 1         30:41              3   \n",
       "14                  24 - 27 - 1 - 3         31:30              4   \n",
       "1                   16 - 40 - 1 - 3         31:45              4   \n",
       "22                  19 - 16 - 0 - 3         30:59              1   \n",
       "\n",
       "    ranking_points  ranking  \n",
       "13             202       14  \n",
       "15             189       16  \n",
       "14             194       15  \n",
       "1              274        2  \n",
       "22             143       23  "
      ],
      "text/html": "<div>\n<style scoped>\n    .dataframe tbody tr th:only-of-type {\n        vertical-align: middle;\n    }\n\n    .dataframe tbody tr th {\n        vertical-align: top;\n    }\n\n    .dataframe thead th {\n        text-align: right;\n    }\n</style>\n<table border=\"1\" class=\"dataframe\">\n  <thead>\n    <tr style=\"text-align: right;\">\n      <th></th>\n      <th>team_id</th>\n      <th>total_first_downs</th>\n      <th>first_downs_rush_pass_penalty</th>\n      <th>third_down_conversions</th>\n      <th>fourth_down_conversions</th>\n      <th>total_offensive</th>\n      <th>offense_plays_avg</th>\n      <th>total_rushing</th>\n      <th>rushing_plays_avg</th>\n      <th>total_passing</th>\n      <th>passing_comp_att_int_avg</th>\n      <th>sacks</th>\n      <th>field_goals</th>\n      <th>touchdowns</th>\n      <th>touchdowns_rush_pass_returns_def</th>\n      <th>avg_possesion</th>\n      <th>turnover_ratio</th>\n      <th>ranking_points</th>\n      <th>ranking</th>\n    </tr>\n  </thead>\n  <tbody>\n    <tr>\n      <th>13</th>\n      <td>1</td>\n      <td>381</td>\n      <td>136 - 211 - 34</td>\n      <td>0.396040</td>\n      <td>17 / 25</td>\n      <td>6153</td>\n      <td>1083 - 5.7</td>\n      <td>2237</td>\n      <td>479 - 4.7</td>\n      <td>3916</td>\n      <td>387 - 575 - 13 - 7.1</td>\n      <td>48</td>\n      <td>23 / 30</td>\n      <td>49</td>\n      <td>22 - 27 - 0 - 0</td>\n      <td>29:03</td>\n      <td>0</td>\n      <td>202</td>\n      <td>14</td>\n    </tr>\n    <tr>\n      <th>15</th>\n      <td>2</td>\n      <td>366</td>\n      <td>86 - 243 - 37</td>\n      <td>0.438914</td>\n      <td>15 / 26</td>\n      <td>5895</td>\n      <td>1078 - 5.5</td>\n      <td>1532</td>\n      <td>409 - 3.7</td>\n      <td>4363</td>\n      <td>408 - 628 - 11 - 7.4</td>\n      <td>29</td>\n      <td>38 / 40</td>\n      <td>41</td>\n      <td>13 - 27 - 0 - 1</td>\n      <td>30:41</td>\n      <td>3</td>\n      <td>189</td>\n      <td>16</td>\n    </tr>\n    <tr>\n      <th>14</th>\n      <td>3</td>\n      <td>327</td>\n      <td>166 - 142 - 19</td>\n      <td>0.487923</td>\n      <td>12 / 19</td>\n      <td>5810</td>\n      <td>993 - 5.9</td>\n      <td>3071</td>\n      <td>555 - 5.5</td>\n      <td>2739</td>\n      <td>257 - 406 - 11 - 7.2</td>\n      <td>39</td>\n      <td>26 / 29</td>\n      <td>55</td>\n      <td>24 - 27 - 1 - 3</td>\n      <td>31:30</td>\n      <td>4</td>\n      <td>194</td>\n      <td>15</td>\n    </tr>\n    <tr>\n      <th>1</th>\n      <td>4</td>\n      <td>397</td>\n      <td>119 - 240 - 38</td>\n      <td>0.497326</td>\n      <td>8 / 10</td>\n      <td>6343</td>\n      <td>1034 - 6.1</td>\n      <td>1723</td>\n      <td>411 - 4.2</td>\n      <td>4620</td>\n      <td>410 - 596 - 11 - 8.0</td>\n      <td>38</td>\n      <td>28 / 34</td>\n      <td>60</td>\n      <td>16 - 40 - 1 - 3</td>\n      <td>31:45</td>\n      <td>4</td>\n      <td>274</td>\n      <td>2</td>\n    </tr>\n    <tr>\n      <th>22</th>\n      <td>5</td>\n      <td>335</td>\n      <td>110 - 192 - 33</td>\n      <td>0.389744</td>\n      <td>15 / 27</td>\n      <td>5592</td>\n      <td>993 - 5.6</td>\n      <td>1704</td>\n      <td>407 - 4.2</td>\n      <td>3888</td>\n      <td>373 - 550 - 16 - 7.5</td>\n      <td>29</td>\n      <td>29 / 36</td>\n      <td>38</td>\n      <td>19 - 16 - 0 - 3</td>\n      <td>30:59</td>\n      <td>1</td>\n      <td>143</td>\n      <td>23</td>\n    </tr>\n  </tbody>\n</table>\n</div>"
     },
     "metadata": {},
     "execution_count": 28
    }
   ],
   "source": [
    "working_df.head()"
   ]
  },
  {
   "cell_type": "code",
   "execution_count": 29,
   "metadata": {},
   "outputs": [
    {
     "output_type": "execute_result",
     "data": {
      "text/plain": [
       "   team_id total_first_downs first_downs_rush_pass_penalty  \\\n",
       "0        1               381                136 - 211 - 34   \n",
       "1        2               366                 86 - 243 - 37   \n",
       "2        3               327                166 - 142 - 19   \n",
       "3        4               397                119 - 240 - 38   \n",
       "4        5               335                110 - 192 - 33   \n",
       "\n",
       "   third_down_conversions fourth_down_conversions total_offensive  \\\n",
       "0                0.396040                 17 / 25            6153   \n",
       "1                0.438914                 15 / 26            5895   \n",
       "2                0.487923                 12 / 19            5810   \n",
       "3                0.497326                  8 / 10            6343   \n",
       "4                0.389744                 15 / 27            5592   \n",
       "\n",
       "  offense_plays_avg total_rushing rushing_plays_avg total_passing  \\\n",
       "0        1083 - 5.7          2237         479 - 4.7          3916   \n",
       "1        1078 - 5.5          1532         409 - 3.7          4363   \n",
       "2         993 - 5.9          3071         555 - 5.5          2739   \n",
       "3        1034 - 6.1          1723         411 - 4.2          4620   \n",
       "4         993 - 5.6          1704         407 - 4.2          3888   \n",
       "\n",
       "  passing_comp_att_int_avg sacks field_goals touchdowns  \\\n",
       "0     387 - 575 - 13 - 7.1    48     23 / 30         49   \n",
       "1     408 - 628 - 11 - 7.4    29     38 / 40         41   \n",
       "2     257 - 406 - 11 - 7.2    39     26 / 29         55   \n",
       "3     410 - 596 - 11 - 8.0    38     28 / 34         60   \n",
       "4     373 - 550 - 16 - 7.5    29     29 / 36         38   \n",
       "\n",
       "  touchdowns_rush_pass_returns_def avg_possesion turnover_ratio  \\\n",
       "0                  22 - 27 - 0 - 0         29:03              0   \n",
       "1                  13 - 27 - 0 - 1         30:41              3   \n",
       "2                  24 - 27 - 1 - 3         31:30              4   \n",
       "3                  16 - 40 - 1 - 3         31:45              4   \n",
       "4                  19 - 16 - 0 - 3         30:59              1   \n",
       "\n",
       "   ranking_points  ranking  \n",
       "0               0        1  \n",
       "1               0        2  \n",
       "2               0        3  \n",
       "3               0        4  \n",
       "4               0        5  "
      ],
      "text/html": "<div>\n<style scoped>\n    .dataframe tbody tr th:only-of-type {\n        vertical-align: middle;\n    }\n\n    .dataframe tbody tr th {\n        vertical-align: top;\n    }\n\n    .dataframe thead th {\n        text-align: right;\n    }\n</style>\n<table border=\"1\" class=\"dataframe\">\n  <thead>\n    <tr style=\"text-align: right;\">\n      <th></th>\n      <th>team_id</th>\n      <th>total_first_downs</th>\n      <th>first_downs_rush_pass_penalty</th>\n      <th>third_down_conversions</th>\n      <th>fourth_down_conversions</th>\n      <th>total_offensive</th>\n      <th>offense_plays_avg</th>\n      <th>total_rushing</th>\n      <th>rushing_plays_avg</th>\n      <th>total_passing</th>\n      <th>passing_comp_att_int_avg</th>\n      <th>sacks</th>\n      <th>field_goals</th>\n      <th>touchdowns</th>\n      <th>touchdowns_rush_pass_returns_def</th>\n      <th>avg_possesion</th>\n      <th>turnover_ratio</th>\n      <th>ranking_points</th>\n      <th>ranking</th>\n    </tr>\n  </thead>\n  <tbody>\n    <tr>\n      <th>0</th>\n      <td>1</td>\n      <td>381</td>\n      <td>136 - 211 - 34</td>\n      <td>0.396040</td>\n      <td>17 / 25</td>\n      <td>6153</td>\n      <td>1083 - 5.7</td>\n      <td>2237</td>\n      <td>479 - 4.7</td>\n      <td>3916</td>\n      <td>387 - 575 - 13 - 7.1</td>\n      <td>48</td>\n      <td>23 / 30</td>\n      <td>49</td>\n      <td>22 - 27 - 0 - 0</td>\n      <td>29:03</td>\n      <td>0</td>\n      <td>0</td>\n      <td>1</td>\n    </tr>\n    <tr>\n      <th>1</th>\n      <td>2</td>\n      <td>366</td>\n      <td>86 - 243 - 37</td>\n      <td>0.438914</td>\n      <td>15 / 26</td>\n      <td>5895</td>\n      <td>1078 - 5.5</td>\n      <td>1532</td>\n      <td>409 - 3.7</td>\n      <td>4363</td>\n      <td>408 - 628 - 11 - 7.4</td>\n      <td>29</td>\n      <td>38 / 40</td>\n      <td>41</td>\n      <td>13 - 27 - 0 - 1</td>\n      <td>30:41</td>\n      <td>3</td>\n      <td>0</td>\n      <td>2</td>\n    </tr>\n    <tr>\n      <th>2</th>\n      <td>3</td>\n      <td>327</td>\n      <td>166 - 142 - 19</td>\n      <td>0.487923</td>\n      <td>12 / 19</td>\n      <td>5810</td>\n      <td>993 - 5.9</td>\n      <td>3071</td>\n      <td>555 - 5.5</td>\n      <td>2739</td>\n      <td>257 - 406 - 11 - 7.2</td>\n      <td>39</td>\n      <td>26 / 29</td>\n      <td>55</td>\n      <td>24 - 27 - 1 - 3</td>\n      <td>31:30</td>\n      <td>4</td>\n      <td>0</td>\n      <td>3</td>\n    </tr>\n    <tr>\n      <th>3</th>\n      <td>4</td>\n      <td>397</td>\n      <td>119 - 240 - 38</td>\n      <td>0.497326</td>\n      <td>8 / 10</td>\n      <td>6343</td>\n      <td>1034 - 6.1</td>\n      <td>1723</td>\n      <td>411 - 4.2</td>\n      <td>4620</td>\n      <td>410 - 596 - 11 - 8.0</td>\n      <td>38</td>\n      <td>28 / 34</td>\n      <td>60</td>\n      <td>16 - 40 - 1 - 3</td>\n      <td>31:45</td>\n      <td>4</td>\n      <td>0</td>\n      <td>4</td>\n    </tr>\n    <tr>\n      <th>4</th>\n      <td>5</td>\n      <td>335</td>\n      <td>110 - 192 - 33</td>\n      <td>0.389744</td>\n      <td>15 / 27</td>\n      <td>5592</td>\n      <td>993 - 5.6</td>\n      <td>1704</td>\n      <td>407 - 4.2</td>\n      <td>3888</td>\n      <td>373 - 550 - 16 - 7.5</td>\n      <td>29</td>\n      <td>29 / 36</td>\n      <td>38</td>\n      <td>19 - 16 - 0 - 3</td>\n      <td>30:59</td>\n      <td>1</td>\n      <td>0</td>\n      <td>5</td>\n    </tr>\n  </tbody>\n</table>\n</div>"
     },
     "metadata": {},
     "execution_count": 29
    }
   ],
   "source": [
    "home_stats_df.sort_values(by='ranking').head()"
   ]
  },
  {
   "cell_type": "code",
   "execution_count": null,
   "metadata": {},
   "outputs": [],
   "source": []
  }
 ]
}
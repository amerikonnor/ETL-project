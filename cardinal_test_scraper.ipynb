{
 "metadata": {
  "language_info": {
   "codemirror_mode": {
    "name": "ipython",
    "version": 3
   },
   "file_extension": ".py",
   "mimetype": "text/x-python",
   "name": "python",
   "nbconvert_exporter": "python",
   "pygments_lexer": "ipython3",
   "version": "3.8.3-final"
  },
  "orig_nbformat": 2,
  "kernelspec": {
   "name": "python3",
   "display_name": "Python 3",
   "language": "python"
  }
 },
 "nbformat": 4,
 "nbformat_minor": 2,
 "cells": [
  {
   "cell_type": "code",
   "execution_count": null,
   "metadata": {},
   "outputs": [],
   "source": [
    "##imports\n",
    "\n",
    "from bs4 import BeautifulSoup\n",
    "import requests\n",
    "import pandas as pd "
   ]
  },
  {
   "cell_type": "code",
   "execution_count": null,
   "metadata": {},
   "outputs": [],
   "source": [
    "##team name\n",
    "##need to load the csv, put the name column into a list, and then loop literally the rest of the code lol\n",
    "\n",
    "team_name = 'Arizona Cardinals'\n",
    "\n",
    "team_name_for = team_name.lower().replace(' ','-')\n",
    "team_name_for\n",
    "\n"
   ]
  },
  {
   "cell_type": "code",
   "execution_count": null,
   "metadata": {},
   "outputs": [],
   "source": [
    "url = \"https://www.nfl.com/teams/\" + team_name_for + \"/stats\"\n",
    "\n",
    "response = requests.get(url)\n",
    "\n",
    "soup = BeautifulSoup(response.text, 'html.parser')"
   ]
  },
  {
   "cell_type": "code",
   "execution_count": null,
   "metadata": {},
   "outputs": [],
   "source": [
    "result = soup.find('ul', class_=\"nfl-o-team-h2h-stats__list\")\n",
    "\n",
    "stat_list = result.find_all('li')\n",
    "\n",
    "stat_list\n",
    "\n"
   ]
  },
  {
   "cell_type": "code",
   "execution_count": null,
   "metadata": {},
   "outputs": [],
   "source": [
    "home_stats = []\n",
    "titles = []\n",
    "opponent_stats = []\n",
    "\n",
    "for stat in stat_list:\n",
    "    home_tag = stat.find('div', class_='nfl-o-team-h2h-stats__value')\n",
    "    home = home_tag.text.strip()\n",
    "\n",
    "    home_stats.append(home)\n",
    "\n",
    "    title_block = stat.find('div', class_='nfl-o-team-h2h-stats__label')\n",
    "    title = title_block.span.text\n",
    "\n",
    "    titles.append(title)\n",
    "\n",
    "    opponents = home_tag.find_next('div',class_='nfl-o-team-h2h-stats__value').text.strip()\n",
    "    \n",
    "    opponent_stats.append(opponents)"
   ]
  },
  {
   "cell_type": "code",
   "execution_count": null,
   "metadata": {},
   "outputs": [],
   "source": [
    "titles.index('FIRST DOWNS'), titles.index('OFFENSE'), titles.index('RUSHING'), titles.index('PASSING'), titles.index('TOUCHDOWNS')\n"
   ]
  },
  {
   "cell_type": "code",
   "execution_count": null,
   "metadata": {},
   "outputs": [],
   "source": [
    "titles[1] = 'FIRST DOWNS (Rushing - Passing - By Penalty)'\n",
    "titles[5] = 'OFFENSE (Plays - Average Yards)'\n",
    "titles[7] = 'RUSHING (Plays - Average Yards)'\n",
    "titles[9] = 'PASSING (Comp - Att - Int - Avg)'\n",
    "titles[12] = 'TOUCHDOWNS (Rushing - Passing - Returns - Defensive)'"
   ]
  },
  {
   "cell_type": "code",
   "execution_count": null,
   "metadata": {},
   "outputs": [],
   "source": [
    "cardinals_df = pd.DataFrame({'home':home_stats,'title':titles,'opponent':opponent_stats})\n",
    "cardinals_df.head()"
   ]
  },
  {
   "cell_type": "code",
   "execution_count": null,
   "metadata": {},
   "outputs": [],
   "source": [
    "cardinals_df.to_csv('resources/team_stats/' + team_name_for)"
   ]
  },
  {
   "cell_type": "code",
   "execution_count": null,
   "metadata": {},
   "outputs": [],
   "source": []
  }
 ]
}
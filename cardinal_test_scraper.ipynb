{
 "metadata": {
  "language_info": {
   "codemirror_mode": {
    "name": "ipython",
    "version": 3
   },
   "file_extension": ".py",
   "mimetype": "text/x-python",
   "name": "python",
   "nbconvert_exporter": "python",
   "pygments_lexer": "ipython3",
   "version": "3.8.3-final"
  },
  "orig_nbformat": 2,
  "kernelspec": {
   "name": "python3",
   "display_name": "Python 3",
   "language": "python"
  }
 },
 "nbformat": 4,
 "nbformat_minor": 2,
 "cells": [
  {
   "cell_type": "code",
   "execution_count": 1,
   "metadata": {},
   "outputs": [],
   "source": [
    "##imports\n",
    "\n",
    "from bs4 import BeautifulSoup\n",
    "import requests\n",
    "import pandas as pd "
   ]
  },
  {
   "cell_type": "code",
   "execution_count": 2,
   "metadata": {},
   "outputs": [
    {
     "output_type": "execute_result",
     "data": {
      "text/plain": [
       "'atlanta-falcons'"
      ]
     },
     "metadata": {},
     "execution_count": 2
    }
   ],
   "source": [
    "##team name\n",
    "##need to load the csv, put the name column into a list, and then loop literally the rest of the code lol\n",
    "\n",
    "team_name = 'Arizona Cardinals'\n",
    "\n",
    "team_name_for = team_name.lower().replace(' ','-')\n",
    "team_name_for\n",
    "\n"
   ]
  },
  {
   "cell_type": "code",
   "execution_count": 3,
   "metadata": {},
   "outputs": [],
   "source": [
    "url = \"https://www.nfl.com/teams/\" + team_name_for + \"/stats\"\n",
    "\n",
    "response = requests.get(url)\n",
    "\n",
    "soup = BeautifulSoup(response.text, 'html.parser')"
   ]
  },
  {
   "cell_type": "code",
   "execution_count": 4,
   "metadata": {},
   "outputs": [
    {
     "output_type": "execute_result",
     "data": {
      "text/plain": [
       "[<li>\n",
       " <div class=\"nfl-o-team-h2h-stats__value\">366</div>\n",
       " <div class=\"nfl-o-team-h2h-stats__label\">\n",
       " <span class=\"nfl-o-team-h2h-stats__label--full\">TOTAL FIRST DOWNS</span>\n",
       " <span class=\"nfl-o-team-h2h-stats__label--short\">TOTAL 1ST DOWNS</span>\n",
       " </div>\n",
       " <div class=\"nfl-o-team-h2h-stats__value\">367</div>\n",
       " </li>,\n",
       " <li>\n",
       " <div class=\"nfl-o-team-h2h-stats__value\">\n",
       " <span>86</span>\n",
       " <span>243</span>\n",
       " <span>37</span>\n",
       " </div>\n",
       " <div class=\"nfl-o-team-h2h-stats__label\">\n",
       " <span class=\"nfl-o-team-h2h-stats__label--full\">FIRST DOWNS</span>\n",
       " <span class=\"nfl-o-team-h2h-stats__label--short\">1ST DOWNS</span>\n",
       " <span class=\"nfl-o-team-h2h-stats__label--first-child nfl-o-team-h2h-stats__label--child\">Rushing</span>\n",
       " <span class=\"nfl-o-team-h2h-stats__label--child\">Passing</span>\n",
       " <span class=\"nfl-o-team-h2h-stats__label--last-child nfl-o-team-h2h-stats__label--child\">By Penalty</span>\n",
       " </div>\n",
       " <div class=\"nfl-o-team-h2h-stats__value\">\n",
       " <span>97</span>\n",
       " <span>239</span>\n",
       " <span>31</span>\n",
       " </div>\n",
       " </li>,\n",
       " <li>\n",
       " <div class=\"nfl-o-team-h2h-stats__value\">\n",
       "               97 / 221\n",
       "             </div>\n",
       " <div class=\"nfl-o-team-h2h-stats__label\">\n",
       " <span class=\"nfl-o-team-h2h-stats__label--full\">THIRD DOWN CONVERSIONS</span>\n",
       " <span class=\"nfl-o-team-h2h-stats__label--short\">3RD DOWN CONVERSIONS</span>\n",
       " </div>\n",
       " <div class=\"nfl-o-team-h2h-stats__value\">\n",
       "               80 / 195\n",
       "             </div>\n",
       " </li>,\n",
       " <li>\n",
       " <div class=\"nfl-o-team-h2h-stats__value\">\n",
       "               15 / 26\n",
       "             </div>\n",
       " <div class=\"nfl-o-team-h2h-stats__label\">\n",
       " <span class=\"nfl-o-team-h2h-stats__label--full\">FOURTH DOWN CONVERSIONS</span>\n",
       " <span class=\"nfl-o-team-h2h-stats__label--short\">4TH DOWN CONVERSIONS</span>\n",
       " </div>\n",
       " <div class=\"nfl-o-team-h2h-stats__value\">\n",
       "               10 / 23\n",
       "             </div>\n",
       " </li>,\n",
       " <li>\n",
       " <div class=\"nfl-o-team-h2h-stats__value\">5895</div>\n",
       " <div class=\"nfl-o-team-h2h-stats__label\">\n",
       " <span>TOTAL OFFENSIVE YARDS</span>\n",
       " </div>\n",
       " <div class=\"nfl-o-team-h2h-stats__value\">6374</div>\n",
       " </li>,\n",
       " <li>\n",
       " <div class=\"nfl-o-team-h2h-stats__value\">\n",
       " <span>1078</span>\n",
       " <span>5.5</span>\n",
       " </div>\n",
       " <div class=\"nfl-o-team-h2h-stats__label\">\n",
       " <span>OFFENSE</span>\n",
       " <span class=\"nfl-o-team-h2h-stats__label--first-child nfl-o-team-h2h-stats__label--child\">Plays</span>\n",
       " <span class=\"nfl-o-team-h2h-stats__label--last-child nfl-o-team-h2h-stats__label--child\">Average Yards</span>\n",
       " </div>\n",
       " <div class=\"nfl-o-team-h2h-stats__value\">\n",
       " <span>1034</span>\n",
       " <span>6.2</span>\n",
       " </div>\n",
       " </li>,\n",
       " <li>\n",
       " <div class=\"nfl-o-team-h2h-stats__value\">1532</div>\n",
       " <div class=\"nfl-o-team-h2h-stats__label\">\n",
       " <span>TOTAL RUSHING YARDS</span>\n",
       " </div>\n",
       " <div class=\"nfl-o-team-h2h-stats__value\">1677</div>\n",
       " </li>,\n",
       " <li>\n",
       " <div class=\"nfl-o-team-h2h-stats__value\">\n",
       " <span>409 </span>\n",
       " <span>3.7</span>\n",
       " </div>\n",
       " <div class=\"nfl-o-team-h2h-stats__label\">\n",
       " <span>RUSHING</span>\n",
       " <span class=\"nfl-o-team-h2h-stats__label--first-child nfl-o-team-h2h-stats__label--child\">Plays</span>\n",
       " <span class=\"nfl-o-team-h2h-stats__label--last-child nfl-o-team-h2h-stats__label--child\">Average Yards</span>\n",
       " </div>\n",
       " <div class=\"nfl-o-team-h2h-stats__value\">\n",
       " <span>380</span>\n",
       " <span>4.4</span>\n",
       " </div>\n",
       " </li>,\n",
       " <li>\n",
       " <div class=\"nfl-o-team-h2h-stats__value\">4363</div>\n",
       " <div class=\"nfl-o-team-h2h-stats__label\">\n",
       " <span>TOTAL PASSING YARDS</span>\n",
       " </div>\n",
       " <div class=\"nfl-o-team-h2h-stats__value\">4697</div>\n",
       " </li>,\n",
       " <li>\n",
       " <div class=\"nfl-o-team-h2h-stats__value\">\n",
       " <span>408</span>\n",
       " <span>628</span>\n",
       " <span>11</span>\n",
       " <span>7.4</span>\n",
       " </div>\n",
       " <div class=\"nfl-o-team-h2h-stats__label\">\n",
       " <span>PASSING</span>\n",
       " <span class=\"nfl-o-team-h2h-stats__label--first-child nfl-o-team-h2h-stats__label--full nfl-o-team-h2h-stats__label--child\">Comp</span>\n",
       " <span class=\"nfl-o-team-h2h-stats__label--first-child nfl-o-team-h2h-stats__label--short nfl-o-team-h2h-stats__label--child\">Completions</span>\n",
       " <span class=\"nfl-o-team-h2h-stats__label--full nfl-o-team-h2h-stats__label--child\">Att</span>\n",
       " <span class=\"nfl-o-team-h2h-stats__label--short nfl-o-team-h2h-stats__label--child\">Attempts</span>\n",
       " <span class=\"nfl-o-team-h2h-stats__label--full nfl-o-team-h2h-stats__label--child\">Int</span>\n",
       " <span class=\"nfl-o-team-h2h-stats__label--short nfl-o-team-h2h-stats__label--child\">Interceptions</span>\n",
       " <span class=\"nfl-o-team-h2h-stats__label--last-child nfl-o-team-h2h-stats__label--full nfl-o-team-h2h-stats__label--child\">Avg</span>\n",
       " <span class=\"nfl-o-team-h2h-stats__label--last-child nfl-o-team-h2h-stats__label--short nfl-o-team-h2h-stats__label--child\">Average</span>\n",
       " </div>\n",
       " <div class=\"nfl-o-team-h2h-stats__value\">\n",
       " <span>425</span>\n",
       " <span>625</span>\n",
       " <span>12</span>\n",
       " <span>7.9</span>\n",
       " </div>\n",
       " </li>,\n",
       " <li>\n",
       " <div class=\"nfl-o-team-h2h-stats__value\">29</div>\n",
       " <div class=\"nfl-o-team-h2h-stats__label\">\n",
       " <span>SACKS</span>\n",
       " </div>\n",
       " <div class=\"nfl-o-team-h2h-stats__value\">41</div>\n",
       " </li>,\n",
       " <li>\n",
       " <div class=\"nfl-o-team-h2h-stats__value\">38 / 40</div>\n",
       " <div class=\"nfl-o-team-h2h-stats__label\">\n",
       " <span>FIELD GOALS</span>\n",
       " </div>\n",
       " <div class=\"nfl-o-team-h2h-stats__value\">24 / 28</div>\n",
       " </li>,\n",
       " <li>\n",
       " <div class=\"nfl-o-team-h2h-stats__value\">41</div>\n",
       " <div class=\"nfl-o-team-h2h-stats__label\">\n",
       " <span>TOUCHDOWNS</span>\n",
       " </div>\n",
       " <div class=\"nfl-o-team-h2h-stats__value\">49</div>\n",
       " </li>,\n",
       " <li>\n",
       " <div class=\"nfl-o-team-h2h-stats__value\">\n",
       " <span>13</span>\n",
       " <span>27</span>\n",
       " <span>0</span>\n",
       " <span>1</span>\n",
       " </div>\n",
       " <div class=\"nfl-o-team-h2h-stats__label\">\n",
       " <span>TOUCHDOWNS</span>\n",
       " <span class=\"nfl-o-team-h2h-stats__label--first-child nfl-o-team-h2h-stats__label--child\">Rushing</span>\n",
       " <span class=\"nfl-o-team-h2h-stats__label--child\">Passing</span>\n",
       " <span class=\"nfl-o-team-h2h-stats__label--child\">Returns</span>\n",
       " <span class=\"nfl-o-team-h2h-stats__label--last-child nfl-o-team-h2h-stats__label--child\">Defensive</span>\n",
       " </div>\n",
       " <div class=\"nfl-o-team-h2h-stats__value\">\n",
       " <span>15</span>\n",
       " <span>34</span>\n",
       " <span>0</span>\n",
       " <span>0</span>\n",
       " </div>\n",
       " </li>,\n",
       " <li>\n",
       " <div class=\"nfl-o-team-h2h-stats__value\">30:41</div>\n",
       " <div class=\"nfl-o-team-h2h-stats__label\">\n",
       " <span class=\"nfl-o-team-h2h-stats__label--full\">AVERAGE TIME OF POSSESSION</span>\n",
       " <span class=\"nfl-o-team-h2h-stats__label--short\">AVG TIME OF POSSESSION</span>\n",
       " </div>\n",
       " <div class=\"nfl-o-team-h2h-stats__value\">29:18</div>\n",
       " </li>,\n",
       " <li>\n",
       " <div class=\"nfl-o-team-h2h-stats__value\">+3</div>\n",
       " <div class=\"nfl-o-team-h2h-stats__label\">\n",
       " <span>TURNOVER RATIO</span>\n",
       " </div>\n",
       " <div class=\"nfl-o-team-h2h-stats__value\"> </div>\n",
       " </li>]"
      ]
     },
     "metadata": {},
     "execution_count": 4
    }
   ],
   "source": [
    "result = soup.find('ul', class_=\"nfl-o-team-h2h-stats__list\")\n",
    "\n",
    "stat_list = result.find_all('li')\n",
    "\n",
    "stat_list\n",
    "\n"
   ]
  },
  {
   "cell_type": "code",
   "execution_count": 5,
   "metadata": {},
   "outputs": [],
   "source": [
    "home_stats = []\n",
    "titles = []\n",
    "opponent_stats = []\n",
    "\n",
    "for stat in stat_list:\n",
    "    home_tag = stat.find('div', class_='nfl-o-team-h2h-stats__value')\n",
    "    home = home_tag.text.strip()\n",
    "\n",
    "    home_stats.append(home)\n",
    "    \n",
    "\n",
    "    title_block = stat.find('div', class_='nfl-o-team-h2h-stats__label')\n",
    "    title = title_block.span.text\n",
    "\n",
    "    titles.append(title)\n",
    "\n",
    "    opponents = home_tag.find_next('div',class_='nfl-o-team-h2h-stats__value').text.strip()\n",
    "    \n",
    "    opponent_stats.append(opponents)"
   ]
  },
  {
   "cell_type": "code",
   "execution_count": 6,
   "metadata": {},
   "outputs": [],
   "source": [
    "if (str(home_stats[15])[0] != '+' and str(home_stats[15])[0] != '-'):\n",
    "    home_stats[15] = 0\n",
    "    opponent_stats[15] = 0\n",
    "else:\n",
    "    opponent_stats[15] = home_stats[15]\n",
    "\n",
    "if str(opponent_stats[15])[0] == '+':\n",
    "    opponent_stats[15] = opponent_stats[15].replace('+','-')\n",
    "elif str(opponent_stats[15])[0] == '-':\n",
    "    opponent_stats[15] = opponent_stats[15].replace('-','+')\n",
    "\n"
   ]
  },
  {
   "cell_type": "code",
   "execution_count": 7,
   "metadata": {},
   "outputs": [
    {
     "output_type": "execute_result",
     "data": {
      "text/plain": [
       "(1, 5, 7, 9, 12)"
      ]
     },
     "metadata": {},
     "execution_count": 7
    }
   ],
   "source": [
    "titles.index('FIRST DOWNS'), titles.index('OFFENSE'), titles.index('RUSHING'), titles.index('PASSING'), titles.index('TOUCHDOWNS')\n"
   ]
  },
  {
   "cell_type": "code",
   "execution_count": 8,
   "metadata": {},
   "outputs": [],
   "source": [
    "titles[1] = 'FIRST DOWNS (Rushing - Passing - By Penalty)'\n",
    "titles[5] = 'OFFENSE (Plays - Average Yards)'\n",
    "titles[7] = 'RUSHING (Plays - Average Yards)'\n",
    "titles[9] = 'PASSING (Comp - Att - Int - Avg)'\n",
    "titles[13] = 'TOUCHDOWNS (Rushing - Passing - Returns - Defensive)'"
   ]
  },
  {
   "cell_type": "code",
   "execution_count": 9,
   "metadata": {},
   "outputs": [
    {
     "output_type": "execute_result",
     "data": {
      "text/plain": [
       "                 home                                              title  \\\n",
       "0                 366                                  TOTAL FIRST DOWNS   \n",
       "1         86\\n243\\n37       FIRST DOWNS (Rushing - Passing - By Penalty)   \n",
       "2            97 / 221                             THIRD DOWN CONVERSIONS   \n",
       "3             15 / 26                            FOURTH DOWN CONVERSIONS   \n",
       "4                5895                              TOTAL OFFENSIVE YARDS   \n",
       "5           1078\\n5.5                    OFFENSE (Plays - Average Yards)   \n",
       "6                1532                                TOTAL RUSHING YARDS   \n",
       "7           409 \\n3.7                    RUSHING (Plays - Average Yards)   \n",
       "8                4363                                TOTAL PASSING YARDS   \n",
       "9   408\\n628\\n11\\n7.4                   PASSING (Comp - Att - Int - Avg)   \n",
       "10                 29                                              SACKS   \n",
       "11            38 / 40                                        FIELD GOALS   \n",
       "12                 41                                         TOUCHDOWNS   \n",
       "13       13\\n27\\n0\\n1  TOUCHDOWNS (Rushing - Passing - Returns - Defe...   \n",
       "14              30:41                         AVERAGE TIME OF POSSESSION   \n",
       "15                 +3                                     TURNOVER RATIO   \n",
       "\n",
       "             opponent  \n",
       "0                 367  \n",
       "1         97\\n239\\n31  \n",
       "2            80 / 195  \n",
       "3             10 / 23  \n",
       "4                6374  \n",
       "5           1034\\n6.2  \n",
       "6                1677  \n",
       "7            380\\n4.4  \n",
       "8                4697  \n",
       "9   425\\n625\\n12\\n7.9  \n",
       "10                 41  \n",
       "11            24 / 28  \n",
       "12                 49  \n",
       "13       15\\n34\\n0\\n0  \n",
       "14              29:18  \n",
       "15                 -3  "
      ],
      "text/html": "<div>\n<style scoped>\n    .dataframe tbody tr th:only-of-type {\n        vertical-align: middle;\n    }\n\n    .dataframe tbody tr th {\n        vertical-align: top;\n    }\n\n    .dataframe thead th {\n        text-align: right;\n    }\n</style>\n<table border=\"1\" class=\"dataframe\">\n  <thead>\n    <tr style=\"text-align: right;\">\n      <th></th>\n      <th>home</th>\n      <th>title</th>\n      <th>opponent</th>\n    </tr>\n  </thead>\n  <tbody>\n    <tr>\n      <th>0</th>\n      <td>366</td>\n      <td>TOTAL FIRST DOWNS</td>\n      <td>367</td>\n    </tr>\n    <tr>\n      <th>1</th>\n      <td>86\\n243\\n37</td>\n      <td>FIRST DOWNS (Rushing - Passing - By Penalty)</td>\n      <td>97\\n239\\n31</td>\n    </tr>\n    <tr>\n      <th>2</th>\n      <td>97 / 221</td>\n      <td>THIRD DOWN CONVERSIONS</td>\n      <td>80 / 195</td>\n    </tr>\n    <tr>\n      <th>3</th>\n      <td>15 / 26</td>\n      <td>FOURTH DOWN CONVERSIONS</td>\n      <td>10 / 23</td>\n    </tr>\n    <tr>\n      <th>4</th>\n      <td>5895</td>\n      <td>TOTAL OFFENSIVE YARDS</td>\n      <td>6374</td>\n    </tr>\n    <tr>\n      <th>5</th>\n      <td>1078\\n5.5</td>\n      <td>OFFENSE (Plays - Average Yards)</td>\n      <td>1034\\n6.2</td>\n    </tr>\n    <tr>\n      <th>6</th>\n      <td>1532</td>\n      <td>TOTAL RUSHING YARDS</td>\n      <td>1677</td>\n    </tr>\n    <tr>\n      <th>7</th>\n      <td>409 \\n3.7</td>\n      <td>RUSHING (Plays - Average Yards)</td>\n      <td>380\\n4.4</td>\n    </tr>\n    <tr>\n      <th>8</th>\n      <td>4363</td>\n      <td>TOTAL PASSING YARDS</td>\n      <td>4697</td>\n    </tr>\n    <tr>\n      <th>9</th>\n      <td>408\\n628\\n11\\n7.4</td>\n      <td>PASSING (Comp - Att - Int - Avg)</td>\n      <td>425\\n625\\n12\\n7.9</td>\n    </tr>\n    <tr>\n      <th>10</th>\n      <td>29</td>\n      <td>SACKS</td>\n      <td>41</td>\n    </tr>\n    <tr>\n      <th>11</th>\n      <td>38 / 40</td>\n      <td>FIELD GOALS</td>\n      <td>24 / 28</td>\n    </tr>\n    <tr>\n      <th>12</th>\n      <td>41</td>\n      <td>TOUCHDOWNS</td>\n      <td>49</td>\n    </tr>\n    <tr>\n      <th>13</th>\n      <td>13\\n27\\n0\\n1</td>\n      <td>TOUCHDOWNS (Rushing - Passing - Returns - Defe...</td>\n      <td>15\\n34\\n0\\n0</td>\n    </tr>\n    <tr>\n      <th>14</th>\n      <td>30:41</td>\n      <td>AVERAGE TIME OF POSSESSION</td>\n      <td>29:18</td>\n    </tr>\n    <tr>\n      <th>15</th>\n      <td>+3</td>\n      <td>TURNOVER RATIO</td>\n      <td>-3</td>\n    </tr>\n  </tbody>\n</table>\n</div>"
     },
     "metadata": {},
     "execution_count": 9
    }
   ],
   "source": [
    "cardinals_df = pd.DataFrame({'home':home_stats,'title':titles,'opponent':opponent_stats})\n",
    "cardinals_df\n"
   ]
  },
  {
   "cell_type": "code",
   "execution_count": 16,
   "metadata": {},
   "outputs": [],
   "source": [
    "cardinals_df.to_csv('resources/team_stats/' + team_name_for + '.csv')"
   ]
  },
  {
   "cell_type": "code",
   "execution_count": null,
   "metadata": {},
   "outputs": [],
   "source": []
  }
 ]
}
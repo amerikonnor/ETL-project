{
 "metadata": {
  "language_info": {
   "codemirror_mode": {
    "name": "ipython",
    "version": 3
   },
   "file_extension": ".py",
   "mimetype": "text/x-python",
   "name": "python",
   "nbconvert_exporter": "python",
   "pygments_lexer": "ipython3",
   "version": "3.8.3-final"
  },
  "orig_nbformat": 2,
  "kernelspec": {
   "name": "python3",
   "display_name": "Python 3",
   "language": "python"
  }
 },
 "nbformat": 4,
 "nbformat_minor": 2,
 "cells": [
  {
   "cell_type": "code",
   "execution_count": 1,
   "metadata": {},
   "outputs": [],
   "source": [
    "import pandas as pd \n",
    "from sqlalchemy import create_engine\n",
    "from passwords import sql_password"
   ]
  },
  {
   "cell_type": "code",
   "execution_count": 2,
   "metadata": {},
   "outputs": [
    {
     "output_type": "execute_result",
     "data": {
      "text/plain": [
       "   team_id          team_name\n",
       "0        1  Arizona Cardinals\n",
       "1        2    Atlanta Falcons\n",
       "2        3   Baltimore Ravens\n",
       "3        4      Buffalo Bills\n",
       "4        5  Carolina Panthers"
      ],
      "text/html": "<div>\n<style scoped>\n    .dataframe tbody tr th:only-of-type {\n        vertical-align: middle;\n    }\n\n    .dataframe tbody tr th {\n        vertical-align: top;\n    }\n\n    .dataframe thead th {\n        text-align: right;\n    }\n</style>\n<table border=\"1\" class=\"dataframe\">\n  <thead>\n    <tr style=\"text-align: right;\">\n      <th></th>\n      <th>team_id</th>\n      <th>team_name</th>\n    </tr>\n  </thead>\n  <tbody>\n    <tr>\n      <th>0</th>\n      <td>1</td>\n      <td>Arizona Cardinals</td>\n    </tr>\n    <tr>\n      <th>1</th>\n      <td>2</td>\n      <td>Atlanta Falcons</td>\n    </tr>\n    <tr>\n      <th>2</th>\n      <td>3</td>\n      <td>Baltimore Ravens</td>\n    </tr>\n    <tr>\n      <th>3</th>\n      <td>4</td>\n      <td>Buffalo Bills</td>\n    </tr>\n    <tr>\n      <th>4</th>\n      <td>5</td>\n      <td>Carolina Panthers</td>\n    </tr>\n  </tbody>\n</table>\n</div>"
     },
     "metadata": {},
     "execution_count": 2
    }
   ],
   "source": [
    "teams_df = pd.read_csv('resources/nfl_teams.csv')\n",
    "teams_df.head()"
   ]
  },
  {
   "cell_type": "code",
   "execution_count": 3,
   "metadata": {},
   "outputs": [
    {
     "output_type": "execute_result",
     "data": {
      "text/plain": [
       "   team_id  total_first_downs first_downs_rush_pass_penalty  \\\n",
       "0        1                381                136 - 211 - 34   \n",
       "1        2                366                 86 - 243 - 37   \n",
       "2        3                327                166 - 142 - 19   \n",
       "3        4                397                119 - 240 - 38   \n",
       "4        5                335                110 - 192 - 33   \n",
       "\n",
       "  third_down_conversions fourth_down_conversions  total_offensive  \\\n",
       "0               80 / 202                 17 / 25             6153   \n",
       "1               97 / 221                 15 / 26             5895   \n",
       "2              101 / 207                 12 / 19             5810   \n",
       "3               93 / 187                  8 / 10             6343   \n",
       "4               76 / 195                 15 / 27             5592   \n",
       "\n",
       "  offense_plays_avg  total_rushing rushing_plays_avg  total_passing  \\\n",
       "0        1083 - 5.7           2237         479 - 4.7           3916   \n",
       "1        1078 - 5.5           1532         409 - 3.7           4363   \n",
       "2         993 - 5.9           3071         555 - 5.5           2739   \n",
       "3        1034 - 6.1           1723         411 - 4.2           4620   \n",
       "4         993 - 5.6           1704         407 - 4.2           3888   \n",
       "\n",
       "  passing_comp_att_int_avg  sacks field_goals  touchdowns  \\\n",
       "0     387 - 575 - 13 - 7.1     48     23 / 30          49   \n",
       "1     408 - 628 - 11 - 7.4     29     38 / 40          41   \n",
       "2     257 - 406 - 11 - 7.2     39     26 / 29          55   \n",
       "3     410 - 596 - 11 - 8.0     38     28 / 34          60   \n",
       "4     373 - 550 - 16 - 7.5     29     29 / 36          38   \n",
       "\n",
       "  touchdowns_rush_pass_returns_def avg_possesion  turnover_ratio  \n",
       "0                  22 - 27 - 0 - 0         29:03               0  \n",
       "1                  13 - 27 - 0 - 1         30:41               3  \n",
       "2                  24 - 27 - 1 - 3         31:30               4  \n",
       "3                  16 - 40 - 1 - 3         31:45               4  \n",
       "4                  19 - 16 - 0 - 3         30:59               1  "
      ],
      "text/html": "<div>\n<style scoped>\n    .dataframe tbody tr th:only-of-type {\n        vertical-align: middle;\n    }\n\n    .dataframe tbody tr th {\n        vertical-align: top;\n    }\n\n    .dataframe thead th {\n        text-align: right;\n    }\n</style>\n<table border=\"1\" class=\"dataframe\">\n  <thead>\n    <tr style=\"text-align: right;\">\n      <th></th>\n      <th>team_id</th>\n      <th>total_first_downs</th>\n      <th>first_downs_rush_pass_penalty</th>\n      <th>third_down_conversions</th>\n      <th>fourth_down_conversions</th>\n      <th>total_offensive</th>\n      <th>offense_plays_avg</th>\n      <th>total_rushing</th>\n      <th>rushing_plays_avg</th>\n      <th>total_passing</th>\n      <th>passing_comp_att_int_avg</th>\n      <th>sacks</th>\n      <th>field_goals</th>\n      <th>touchdowns</th>\n      <th>touchdowns_rush_pass_returns_def</th>\n      <th>avg_possesion</th>\n      <th>turnover_ratio</th>\n    </tr>\n  </thead>\n  <tbody>\n    <tr>\n      <th>0</th>\n      <td>1</td>\n      <td>381</td>\n      <td>136 - 211 - 34</td>\n      <td>80 / 202</td>\n      <td>17 / 25</td>\n      <td>6153</td>\n      <td>1083 - 5.7</td>\n      <td>2237</td>\n      <td>479 - 4.7</td>\n      <td>3916</td>\n      <td>387 - 575 - 13 - 7.1</td>\n      <td>48</td>\n      <td>23 / 30</td>\n      <td>49</td>\n      <td>22 - 27 - 0 - 0</td>\n      <td>29:03</td>\n      <td>0</td>\n    </tr>\n    <tr>\n      <th>1</th>\n      <td>2</td>\n      <td>366</td>\n      <td>86 - 243 - 37</td>\n      <td>97 / 221</td>\n      <td>15 / 26</td>\n      <td>5895</td>\n      <td>1078 - 5.5</td>\n      <td>1532</td>\n      <td>409 - 3.7</td>\n      <td>4363</td>\n      <td>408 - 628 - 11 - 7.4</td>\n      <td>29</td>\n      <td>38 / 40</td>\n      <td>41</td>\n      <td>13 - 27 - 0 - 1</td>\n      <td>30:41</td>\n      <td>3</td>\n    </tr>\n    <tr>\n      <th>2</th>\n      <td>3</td>\n      <td>327</td>\n      <td>166 - 142 - 19</td>\n      <td>101 / 207</td>\n      <td>12 / 19</td>\n      <td>5810</td>\n      <td>993 - 5.9</td>\n      <td>3071</td>\n      <td>555 - 5.5</td>\n      <td>2739</td>\n      <td>257 - 406 - 11 - 7.2</td>\n      <td>39</td>\n      <td>26 / 29</td>\n      <td>55</td>\n      <td>24 - 27 - 1 - 3</td>\n      <td>31:30</td>\n      <td>4</td>\n    </tr>\n    <tr>\n      <th>3</th>\n      <td>4</td>\n      <td>397</td>\n      <td>119 - 240 - 38</td>\n      <td>93 / 187</td>\n      <td>8 / 10</td>\n      <td>6343</td>\n      <td>1034 - 6.1</td>\n      <td>1723</td>\n      <td>411 - 4.2</td>\n      <td>4620</td>\n      <td>410 - 596 - 11 - 8.0</td>\n      <td>38</td>\n      <td>28 / 34</td>\n      <td>60</td>\n      <td>16 - 40 - 1 - 3</td>\n      <td>31:45</td>\n      <td>4</td>\n    </tr>\n    <tr>\n      <th>4</th>\n      <td>5</td>\n      <td>335</td>\n      <td>110 - 192 - 33</td>\n      <td>76 / 195</td>\n      <td>15 / 27</td>\n      <td>5592</td>\n      <td>993 - 5.6</td>\n      <td>1704</td>\n      <td>407 - 4.2</td>\n      <td>3888</td>\n      <td>373 - 550 - 16 - 7.5</td>\n      <td>29</td>\n      <td>29 / 36</td>\n      <td>38</td>\n      <td>19 - 16 - 0 - 3</td>\n      <td>30:59</td>\n      <td>1</td>\n    </tr>\n  </tbody>\n</table>\n</div>"
     },
     "metadata": {},
     "execution_count": 3
    }
   ],
   "source": [
    "all_teams_df = pd.read_csv('resources/all_teams_stats.csv')\n",
    "all_teams_df.head()"
   ]
  },
  {
   "cell_type": "code",
   "execution_count": 4,
   "metadata": {},
   "outputs": [
    {
     "output_type": "execute_result",
     "data": {
      "text/plain": [
       "   team_id  allowed_total_first_downs allowed_first_downs_rush_pass_penalty  \\\n",
       "0        1                        363                        118 - 207 - 38   \n",
       "1        2                        367                         97 - 239 - 31   \n",
       "2        3                        347                         96 - 213 - 38   \n",
       "3        4                        351                        125 - 199 - 27   \n",
       "4        5                        360                        114 - 211 - 35   \n",
       "\n",
       "  allowed_third_down_conversions allowed_fourth_down_conversions  \\\n",
       "0                       80 / 202                         14 / 21   \n",
       "1                       80 / 195                         10 / 23   \n",
       "2                       65 / 191                         16 / 35   \n",
       "3                       76 / 191                         11 / 19   \n",
       "4                       98 / 199                          6 / 10   \n",
       "\n",
       "   allowed_total_offensive allowed_offense_plays_avg  allowed_total_rushing  \\\n",
       "0                     5631                1054 - 5.3                   2008   \n",
       "1                     6374                1034 - 6.2                   1677   \n",
       "2                     5276                1017 - 5.2                   1740   \n",
       "3                     5640                1025 - 5.5                   1914   \n",
       "4                     5761                1022 - 5.6                   1936   \n",
       "\n",
       "  allowed_rushing_plays_avg  allowed_total_passing  \\\n",
       "0                 436 - 4.6                   3623   \n",
       "1                 380 - 4.4                   4697   \n",
       "2                 382 - 4.6                   3536   \n",
       "3                 414 - 4.6                   3726   \n",
       "4                 408 - 4.7                   3825   \n",
       "\n",
       "  allowed_passing_comp_att_int_avg  allowed_sacks allowed_field_goals  \\\n",
       "0             365 - 570 - 11 - 6.9             29             25 / 30   \n",
       "1             425 - 625 - 12 - 7.9             41             24 / 28   \n",
       "2             380 - 596 - 10 - 6.4             32             16 / 24   \n",
       "3             369 - 573 - 15 - 6.9             27             23 / 25   \n",
       "4              398 - 585 - 7 - 6.9             36             29 / 31   \n",
       "\n",
       "   allowed_touchdowns allowed_touchdowns_rush_pass_returns_def  \\\n",
       "0                  42                          13 - 26 - 0 - 3   \n",
       "1                  49                          15 - 34 - 0 - 0   \n",
       "2                  37                          12 - 22 - 0 - 3   \n",
       "3                  44                          21 - 23 - 0 - 0   \n",
       "4                  46                          17 - 28 - 1 - 0   \n",
       "\n",
       "  allowed_avg_possesion  allowed_turnover_ratio  \n",
       "0                 31:32                       0  \n",
       "1                 29:18                      -3  \n",
       "2                 28:47                      -4  \n",
       "3                 28:14                      -4  \n",
       "4                 29:00                      -1  "
      ],
      "text/html": "<div>\n<style scoped>\n    .dataframe tbody tr th:only-of-type {\n        vertical-align: middle;\n    }\n\n    .dataframe tbody tr th {\n        vertical-align: top;\n    }\n\n    .dataframe thead th {\n        text-align: right;\n    }\n</style>\n<table border=\"1\" class=\"dataframe\">\n  <thead>\n    <tr style=\"text-align: right;\">\n      <th></th>\n      <th>team_id</th>\n      <th>allowed_total_first_downs</th>\n      <th>allowed_first_downs_rush_pass_penalty</th>\n      <th>allowed_third_down_conversions</th>\n      <th>allowed_fourth_down_conversions</th>\n      <th>allowed_total_offensive</th>\n      <th>allowed_offense_plays_avg</th>\n      <th>allowed_total_rushing</th>\n      <th>allowed_rushing_plays_avg</th>\n      <th>allowed_total_passing</th>\n      <th>allowed_passing_comp_att_int_avg</th>\n      <th>allowed_sacks</th>\n      <th>allowed_field_goals</th>\n      <th>allowed_touchdowns</th>\n      <th>allowed_touchdowns_rush_pass_returns_def</th>\n      <th>allowed_avg_possesion</th>\n      <th>allowed_turnover_ratio</th>\n    </tr>\n  </thead>\n  <tbody>\n    <tr>\n      <th>0</th>\n      <td>1</td>\n      <td>363</td>\n      <td>118 - 207 - 38</td>\n      <td>80 / 202</td>\n      <td>14 / 21</td>\n      <td>5631</td>\n      <td>1054 - 5.3</td>\n      <td>2008</td>\n      <td>436 - 4.6</td>\n      <td>3623</td>\n      <td>365 - 570 - 11 - 6.9</td>\n      <td>29</td>\n      <td>25 / 30</td>\n      <td>42</td>\n      <td>13 - 26 - 0 - 3</td>\n      <td>31:32</td>\n      <td>0</td>\n    </tr>\n    <tr>\n      <th>1</th>\n      <td>2</td>\n      <td>367</td>\n      <td>97 - 239 - 31</td>\n      <td>80 / 195</td>\n      <td>10 / 23</td>\n      <td>6374</td>\n      <td>1034 - 6.2</td>\n      <td>1677</td>\n      <td>380 - 4.4</td>\n      <td>4697</td>\n      <td>425 - 625 - 12 - 7.9</td>\n      <td>41</td>\n      <td>24 / 28</td>\n      <td>49</td>\n      <td>15 - 34 - 0 - 0</td>\n      <td>29:18</td>\n      <td>-3</td>\n    </tr>\n    <tr>\n      <th>2</th>\n      <td>3</td>\n      <td>347</td>\n      <td>96 - 213 - 38</td>\n      <td>65 / 191</td>\n      <td>16 / 35</td>\n      <td>5276</td>\n      <td>1017 - 5.2</td>\n      <td>1740</td>\n      <td>382 - 4.6</td>\n      <td>3536</td>\n      <td>380 - 596 - 10 - 6.4</td>\n      <td>32</td>\n      <td>16 / 24</td>\n      <td>37</td>\n      <td>12 - 22 - 0 - 3</td>\n      <td>28:47</td>\n      <td>-4</td>\n    </tr>\n    <tr>\n      <th>3</th>\n      <td>4</td>\n      <td>351</td>\n      <td>125 - 199 - 27</td>\n      <td>76 / 191</td>\n      <td>11 / 19</td>\n      <td>5640</td>\n      <td>1025 - 5.5</td>\n      <td>1914</td>\n      <td>414 - 4.6</td>\n      <td>3726</td>\n      <td>369 - 573 - 15 - 6.9</td>\n      <td>27</td>\n      <td>23 / 25</td>\n      <td>44</td>\n      <td>21 - 23 - 0 - 0</td>\n      <td>28:14</td>\n      <td>-4</td>\n    </tr>\n    <tr>\n      <th>4</th>\n      <td>5</td>\n      <td>360</td>\n      <td>114 - 211 - 35</td>\n      <td>98 / 199</td>\n      <td>6 / 10</td>\n      <td>5761</td>\n      <td>1022 - 5.6</td>\n      <td>1936</td>\n      <td>408 - 4.7</td>\n      <td>3825</td>\n      <td>398 - 585 - 7 - 6.9</td>\n      <td>36</td>\n      <td>29 / 31</td>\n      <td>46</td>\n      <td>17 - 28 - 1 - 0</td>\n      <td>29:00</td>\n      <td>-1</td>\n    </tr>\n  </tbody>\n</table>\n</div>"
     },
     "metadata": {},
     "execution_count": 4
    }
   ],
   "source": [
    "allowed_all_teams_df = pd.read_csv('resources/allowed_all_teams_stats.csv')\n",
    "allowed_all_teams_df.head()"
   ]
  },
  {
   "cell_type": "code",
   "execution_count": 5,
   "metadata": {},
   "outputs": [
    {
     "output_type": "execute_result",
     "data": {
      "text/plain": [
       "   team_id  ranking\n",
       "0        1       12\n",
       "1        2       15\n",
       "2        3       13\n",
       "3        4        1\n",
       "4        5       23"
      ],
      "text/html": "<div>\n<style scoped>\n    .dataframe tbody tr th:only-of-type {\n        vertical-align: middle;\n    }\n\n    .dataframe tbody tr th {\n        vertical-align: top;\n    }\n\n    .dataframe thead th {\n        text-align: right;\n    }\n</style>\n<table border=\"1\" class=\"dataframe\">\n  <thead>\n    <tr style=\"text-align: right;\">\n      <th></th>\n      <th>team_id</th>\n      <th>ranking</th>\n    </tr>\n  </thead>\n  <tbody>\n    <tr>\n      <th>0</th>\n      <td>1</td>\n      <td>12</td>\n    </tr>\n    <tr>\n      <th>1</th>\n      <td>2</td>\n      <td>15</td>\n    </tr>\n    <tr>\n      <th>2</th>\n      <td>3</td>\n      <td>13</td>\n    </tr>\n    <tr>\n      <th>3</th>\n      <td>4</td>\n      <td>1</td>\n    </tr>\n    <tr>\n      <th>4</th>\n      <td>5</td>\n      <td>23</td>\n    </tr>\n  </tbody>\n</table>\n</div>"
     },
     "metadata": {},
     "execution_count": 5
    }
   ],
   "source": [
    "nfl_stats_ranking_df = pd.read_csv('resources/nfl_stats_ranking.csv')\n",
    "nfl_stats_ranking_df.head()"
   ]
  },
  {
   "cell_type": "code",
   "execution_count": 6,
   "metadata": {},
   "outputs": [],
   "source": [
    "rds_connection_string = f\"postgres:{sql_password}@localhost:5432/nfl_db\"\n",
    "engine = create_engine(f'postgresql://{rds_connection_string}')"
   ]
  },
  {
   "cell_type": "code",
   "execution_count": 7,
   "metadata": {},
   "outputs": [
    {
     "output_type": "execute_result",
     "data": {
      "text/plain": [
       "['all_stats',\n",
       " 'allowed_all_stats',\n",
       " 'teams',\n",
       " 'pro_fb_net_rankings',\n",
       " 'nfl_stats_rankings']"
      ]
     },
     "metadata": {},
     "execution_count": 7
    }
   ],
   "source": [
    "engine.table_names()"
   ]
  },
  {
   "cell_type": "code",
   "execution_count": 8,
   "metadata": {},
   "outputs": [],
   "source": [
    "all_teams_df.to_sql(name='all_stats', con=engine, if_exists='append',index=False)"
   ]
  },
  {
   "cell_type": "code",
   "execution_count": 9,
   "metadata": {},
   "outputs": [],
   "source": [
    "allowed_all_teams_df.to_sql(name='allowed_all_stats', con=engine, if_exists='append',index=False)"
   ]
  },
  {
   "cell_type": "code",
   "execution_count": 10,
   "metadata": {},
   "outputs": [],
   "source": [
    "teams_df.to_sql(name='teams', con=engine, if_exists='append',index=False)"
   ]
  },
  {
   "cell_type": "code",
   "execution_count": 11,
   "metadata": {},
   "outputs": [],
   "source": [
    "nfl_stats_ranking_df.to_sql(name='nfl_stats_rankings', con=engine, if_exists='append', index=False)"
   ]
  },
  {
   "cell_type": "code",
   "execution_count": 12,
   "metadata": {},
   "outputs": [
    {
     "output_type": "execute_result",
     "data": {
      "text/plain": [
       "   team_id total_first_downs first_downs_rush_pass_penalty  \\\n",
       "0        1               381                136 - 211 - 34   \n",
       "1        2               366                 86 - 243 - 37   \n",
       "2        3               327                166 - 142 - 19   \n",
       "3        4               397                119 - 240 - 38   \n",
       "4        5               335                110 - 192 - 33   \n",
       "\n",
       "  third_down_conversions fourth_down_conversions total_offensive  \\\n",
       "0               80 / 202                 17 / 25            6153   \n",
       "1               97 / 221                 15 / 26            5895   \n",
       "2              101 / 207                 12 / 19            5810   \n",
       "3               93 / 187                  8 / 10            6343   \n",
       "4               76 / 195                 15 / 27            5592   \n",
       "\n",
       "  offense_plays_avg total_rushing rushing_plays_avg total_passing  \\\n",
       "0        1083 - 5.7          2237         479 - 4.7          3916   \n",
       "1        1078 - 5.5          1532         409 - 3.7          4363   \n",
       "2         993 - 5.9          3071         555 - 5.5          2739   \n",
       "3        1034 - 6.1          1723         411 - 4.2          4620   \n",
       "4         993 - 5.6          1704         407 - 4.2          3888   \n",
       "\n",
       "  passing_comp_att_int_avg sacks field_goals touchdowns  \\\n",
       "0     387 - 575 - 13 - 7.1    48     23 / 30         49   \n",
       "1     408 - 628 - 11 - 7.4    29     38 / 40         41   \n",
       "2     257 - 406 - 11 - 7.2    39     26 / 29         55   \n",
       "3     410 - 596 - 11 - 8.0    38     28 / 34         60   \n",
       "4     373 - 550 - 16 - 7.5    29     29 / 36         38   \n",
       "\n",
       "  touchdowns_rush_pass_returns_def avg_possesion turnover_ratio  \n",
       "0                  22 - 27 - 0 - 0         29:03              0  \n",
       "1                  13 - 27 - 0 - 1         30:41              3  \n",
       "2                  24 - 27 - 1 - 3         31:30              4  \n",
       "3                  16 - 40 - 1 - 3         31:45              4  \n",
       "4                  19 - 16 - 0 - 3         30:59              1  "
      ],
      "text/html": "<div>\n<style scoped>\n    .dataframe tbody tr th:only-of-type {\n        vertical-align: middle;\n    }\n\n    .dataframe tbody tr th {\n        vertical-align: top;\n    }\n\n    .dataframe thead th {\n        text-align: right;\n    }\n</style>\n<table border=\"1\" class=\"dataframe\">\n  <thead>\n    <tr style=\"text-align: right;\">\n      <th></th>\n      <th>team_id</th>\n      <th>total_first_downs</th>\n      <th>first_downs_rush_pass_penalty</th>\n      <th>third_down_conversions</th>\n      <th>fourth_down_conversions</th>\n      <th>total_offensive</th>\n      <th>offense_plays_avg</th>\n      <th>total_rushing</th>\n      <th>rushing_plays_avg</th>\n      <th>total_passing</th>\n      <th>passing_comp_att_int_avg</th>\n      <th>sacks</th>\n      <th>field_goals</th>\n      <th>touchdowns</th>\n      <th>touchdowns_rush_pass_returns_def</th>\n      <th>avg_possesion</th>\n      <th>turnover_ratio</th>\n    </tr>\n  </thead>\n  <tbody>\n    <tr>\n      <th>0</th>\n      <td>1</td>\n      <td>381</td>\n      <td>136 - 211 - 34</td>\n      <td>80 / 202</td>\n      <td>17 / 25</td>\n      <td>6153</td>\n      <td>1083 - 5.7</td>\n      <td>2237</td>\n      <td>479 - 4.7</td>\n      <td>3916</td>\n      <td>387 - 575 - 13 - 7.1</td>\n      <td>48</td>\n      <td>23 / 30</td>\n      <td>49</td>\n      <td>22 - 27 - 0 - 0</td>\n      <td>29:03</td>\n      <td>0</td>\n    </tr>\n    <tr>\n      <th>1</th>\n      <td>2</td>\n      <td>366</td>\n      <td>86 - 243 - 37</td>\n      <td>97 / 221</td>\n      <td>15 / 26</td>\n      <td>5895</td>\n      <td>1078 - 5.5</td>\n      <td>1532</td>\n      <td>409 - 3.7</td>\n      <td>4363</td>\n      <td>408 - 628 - 11 - 7.4</td>\n      <td>29</td>\n      <td>38 / 40</td>\n      <td>41</td>\n      <td>13 - 27 - 0 - 1</td>\n      <td>30:41</td>\n      <td>3</td>\n    </tr>\n    <tr>\n      <th>2</th>\n      <td>3</td>\n      <td>327</td>\n      <td>166 - 142 - 19</td>\n      <td>101 / 207</td>\n      <td>12 / 19</td>\n      <td>5810</td>\n      <td>993 - 5.9</td>\n      <td>3071</td>\n      <td>555 - 5.5</td>\n      <td>2739</td>\n      <td>257 - 406 - 11 - 7.2</td>\n      <td>39</td>\n      <td>26 / 29</td>\n      <td>55</td>\n      <td>24 - 27 - 1 - 3</td>\n      <td>31:30</td>\n      <td>4</td>\n    </tr>\n    <tr>\n      <th>3</th>\n      <td>4</td>\n      <td>397</td>\n      <td>119 - 240 - 38</td>\n      <td>93 / 187</td>\n      <td>8 / 10</td>\n      <td>6343</td>\n      <td>1034 - 6.1</td>\n      <td>1723</td>\n      <td>411 - 4.2</td>\n      <td>4620</td>\n      <td>410 - 596 - 11 - 8.0</td>\n      <td>38</td>\n      <td>28 / 34</td>\n      <td>60</td>\n      <td>16 - 40 - 1 - 3</td>\n      <td>31:45</td>\n      <td>4</td>\n    </tr>\n    <tr>\n      <th>4</th>\n      <td>5</td>\n      <td>335</td>\n      <td>110 - 192 - 33</td>\n      <td>76 / 195</td>\n      <td>15 / 27</td>\n      <td>5592</td>\n      <td>993 - 5.6</td>\n      <td>1704</td>\n      <td>407 - 4.2</td>\n      <td>3888</td>\n      <td>373 - 550 - 16 - 7.5</td>\n      <td>29</td>\n      <td>29 / 36</td>\n      <td>38</td>\n      <td>19 - 16 - 0 - 3</td>\n      <td>30:59</td>\n      <td>1</td>\n    </tr>\n  </tbody>\n</table>\n</div>"
     },
     "metadata": {},
     "execution_count": 12
    }
   ],
   "source": [
    "pd.read_sql_query('select * from all_stats', con=engine).head()"
   ]
  },
  {
   "cell_type": "code",
   "execution_count": 13,
   "metadata": {},
   "outputs": [
    {
     "output_type": "execute_result",
     "data": {
      "text/plain": [
       "   team_id allowed_total_first_downs allowed_first_downs_rush_pass_penalty  \\\n",
       "0        1                       363                        118 - 207 - 38   \n",
       "1        2                       367                         97 - 239 - 31   \n",
       "2        3                       347                         96 - 213 - 38   \n",
       "3        4                       351                        125 - 199 - 27   \n",
       "4        5                       360                        114 - 211 - 35   \n",
       "\n",
       "  allowed_third_down_conversions allowed_fourth_down_conversions  \\\n",
       "0                       80 / 202                         14 / 21   \n",
       "1                       80 / 195                         10 / 23   \n",
       "2                       65 / 191                         16 / 35   \n",
       "3                       76 / 191                         11 / 19   \n",
       "4                       98 / 199                          6 / 10   \n",
       "\n",
       "  allowed_total_offensive allowed_offense_plays_avg allowed_total_rushing  \\\n",
       "0                    5631                1054 - 5.3                  2008   \n",
       "1                    6374                1034 - 6.2                  1677   \n",
       "2                    5276                1017 - 5.2                  1740   \n",
       "3                    5640                1025 - 5.5                  1914   \n",
       "4                    5761                1022 - 5.6                  1936   \n",
       "\n",
       "  allowed_rushing_plays_avg allowed_total_passing  \\\n",
       "0                 436 - 4.6                  3623   \n",
       "1                 380 - 4.4                  4697   \n",
       "2                 382 - 4.6                  3536   \n",
       "3                 414 - 4.6                  3726   \n",
       "4                 408 - 4.7                  3825   \n",
       "\n",
       "  allowed_passing_comp_att_int_avg allowed_sacks allowed_field_goals  \\\n",
       "0             365 - 570 - 11 - 6.9            29             25 / 30   \n",
       "1             425 - 625 - 12 - 7.9            41             24 / 28   \n",
       "2             380 - 596 - 10 - 6.4            32             16 / 24   \n",
       "3             369 - 573 - 15 - 6.9            27             23 / 25   \n",
       "4              398 - 585 - 7 - 6.9            36             29 / 31   \n",
       "\n",
       "  allowed_touchdowns allowed_touchdowns_rush_pass_returns_def  \\\n",
       "0                 42                          13 - 26 - 0 - 3   \n",
       "1                 49                          15 - 34 - 0 - 0   \n",
       "2                 37                          12 - 22 - 0 - 3   \n",
       "3                 44                          21 - 23 - 0 - 0   \n",
       "4                 46                          17 - 28 - 1 - 0   \n",
       "\n",
       "  allowed_avg_possesion allowed_turnover_ratio  \n",
       "0                 31:32                      0  \n",
       "1                 29:18                     -3  \n",
       "2                 28:47                     -4  \n",
       "3                 28:14                     -4  \n",
       "4                 29:00                     -1  "
      ],
      "text/html": "<div>\n<style scoped>\n    .dataframe tbody tr th:only-of-type {\n        vertical-align: middle;\n    }\n\n    .dataframe tbody tr th {\n        vertical-align: top;\n    }\n\n    .dataframe thead th {\n        text-align: right;\n    }\n</style>\n<table border=\"1\" class=\"dataframe\">\n  <thead>\n    <tr style=\"text-align: right;\">\n      <th></th>\n      <th>team_id</th>\n      <th>allowed_total_first_downs</th>\n      <th>allowed_first_downs_rush_pass_penalty</th>\n      <th>allowed_third_down_conversions</th>\n      <th>allowed_fourth_down_conversions</th>\n      <th>allowed_total_offensive</th>\n      <th>allowed_offense_plays_avg</th>\n      <th>allowed_total_rushing</th>\n      <th>allowed_rushing_plays_avg</th>\n      <th>allowed_total_passing</th>\n      <th>allowed_passing_comp_att_int_avg</th>\n      <th>allowed_sacks</th>\n      <th>allowed_field_goals</th>\n      <th>allowed_touchdowns</th>\n      <th>allowed_touchdowns_rush_pass_returns_def</th>\n      <th>allowed_avg_possesion</th>\n      <th>allowed_turnover_ratio</th>\n    </tr>\n  </thead>\n  <tbody>\n    <tr>\n      <th>0</th>\n      <td>1</td>\n      <td>363</td>\n      <td>118 - 207 - 38</td>\n      <td>80 / 202</td>\n      <td>14 / 21</td>\n      <td>5631</td>\n      <td>1054 - 5.3</td>\n      <td>2008</td>\n      <td>436 - 4.6</td>\n      <td>3623</td>\n      <td>365 - 570 - 11 - 6.9</td>\n      <td>29</td>\n      <td>25 / 30</td>\n      <td>42</td>\n      <td>13 - 26 - 0 - 3</td>\n      <td>31:32</td>\n      <td>0</td>\n    </tr>\n    <tr>\n      <th>1</th>\n      <td>2</td>\n      <td>367</td>\n      <td>97 - 239 - 31</td>\n      <td>80 / 195</td>\n      <td>10 / 23</td>\n      <td>6374</td>\n      <td>1034 - 6.2</td>\n      <td>1677</td>\n      <td>380 - 4.4</td>\n      <td>4697</td>\n      <td>425 - 625 - 12 - 7.9</td>\n      <td>41</td>\n      <td>24 / 28</td>\n      <td>49</td>\n      <td>15 - 34 - 0 - 0</td>\n      <td>29:18</td>\n      <td>-3</td>\n    </tr>\n    <tr>\n      <th>2</th>\n      <td>3</td>\n      <td>347</td>\n      <td>96 - 213 - 38</td>\n      <td>65 / 191</td>\n      <td>16 / 35</td>\n      <td>5276</td>\n      <td>1017 - 5.2</td>\n      <td>1740</td>\n      <td>382 - 4.6</td>\n      <td>3536</td>\n      <td>380 - 596 - 10 - 6.4</td>\n      <td>32</td>\n      <td>16 / 24</td>\n      <td>37</td>\n      <td>12 - 22 - 0 - 3</td>\n      <td>28:47</td>\n      <td>-4</td>\n    </tr>\n    <tr>\n      <th>3</th>\n      <td>4</td>\n      <td>351</td>\n      <td>125 - 199 - 27</td>\n      <td>76 / 191</td>\n      <td>11 / 19</td>\n      <td>5640</td>\n      <td>1025 - 5.5</td>\n      <td>1914</td>\n      <td>414 - 4.6</td>\n      <td>3726</td>\n      <td>369 - 573 - 15 - 6.9</td>\n      <td>27</td>\n      <td>23 / 25</td>\n      <td>44</td>\n      <td>21 - 23 - 0 - 0</td>\n      <td>28:14</td>\n      <td>-4</td>\n    </tr>\n    <tr>\n      <th>4</th>\n      <td>5</td>\n      <td>360</td>\n      <td>114 - 211 - 35</td>\n      <td>98 / 199</td>\n      <td>6 / 10</td>\n      <td>5761</td>\n      <td>1022 - 5.6</td>\n      <td>1936</td>\n      <td>408 - 4.7</td>\n      <td>3825</td>\n      <td>398 - 585 - 7 - 6.9</td>\n      <td>36</td>\n      <td>29 / 31</td>\n      <td>46</td>\n      <td>17 - 28 - 1 - 0</td>\n      <td>29:00</td>\n      <td>-1</td>\n    </tr>\n  </tbody>\n</table>\n</div>"
     },
     "metadata": {},
     "execution_count": 13
    }
   ],
   "source": [
    "pd.read_sql_query('select * from allowed_all_stats', con=engine).head()"
   ]
  },
  {
   "cell_type": "code",
   "execution_count": 14,
   "metadata": {},
   "outputs": [
    {
     "output_type": "execute_result",
     "data": {
      "text/plain": [
       "   team_id          team_name\n",
       "0        1  Arizona Cardinals\n",
       "1        2    Atlanta Falcons\n",
       "2        3   Baltimore Ravens\n",
       "3        4      Buffalo Bills\n",
       "4        5  Carolina Panthers"
      ],
      "text/html": "<div>\n<style scoped>\n    .dataframe tbody tr th:only-of-type {\n        vertical-align: middle;\n    }\n\n    .dataframe tbody tr th {\n        vertical-align: top;\n    }\n\n    .dataframe thead th {\n        text-align: right;\n    }\n</style>\n<table border=\"1\" class=\"dataframe\">\n  <thead>\n    <tr style=\"text-align: right;\">\n      <th></th>\n      <th>team_id</th>\n      <th>team_name</th>\n    </tr>\n  </thead>\n  <tbody>\n    <tr>\n      <th>0</th>\n      <td>1</td>\n      <td>Arizona Cardinals</td>\n    </tr>\n    <tr>\n      <th>1</th>\n      <td>2</td>\n      <td>Atlanta Falcons</td>\n    </tr>\n    <tr>\n      <th>2</th>\n      <td>3</td>\n      <td>Baltimore Ravens</td>\n    </tr>\n    <tr>\n      <th>3</th>\n      <td>4</td>\n      <td>Buffalo Bills</td>\n    </tr>\n    <tr>\n      <th>4</th>\n      <td>5</td>\n      <td>Carolina Panthers</td>\n    </tr>\n  </tbody>\n</table>\n</div>"
     },
     "metadata": {},
     "execution_count": 14
    }
   ],
   "source": [
    "pd.read_sql_query('select * from teams', con=engine).head()"
   ]
  },
  {
   "cell_type": "code",
   "execution_count": 15,
   "metadata": {},
   "outputs": [
    {
     "output_type": "execute_result",
     "data": {
      "text/plain": [
       "   team_id  ranking\n",
       "0        1       12\n",
       "1        2       15\n",
       "2        3       13\n",
       "3        4        1\n",
       "4        5       23"
      ],
      "text/html": "<div>\n<style scoped>\n    .dataframe tbody tr th:only-of-type {\n        vertical-align: middle;\n    }\n\n    .dataframe tbody tr th {\n        vertical-align: top;\n    }\n\n    .dataframe thead th {\n        text-align: right;\n    }\n</style>\n<table border=\"1\" class=\"dataframe\">\n  <thead>\n    <tr style=\"text-align: right;\">\n      <th></th>\n      <th>team_id</th>\n      <th>ranking</th>\n    </tr>\n  </thead>\n  <tbody>\n    <tr>\n      <th>0</th>\n      <td>1</td>\n      <td>12</td>\n    </tr>\n    <tr>\n      <th>1</th>\n      <td>2</td>\n      <td>15</td>\n    </tr>\n    <tr>\n      <th>2</th>\n      <td>3</td>\n      <td>13</td>\n    </tr>\n    <tr>\n      <th>3</th>\n      <td>4</td>\n      <td>1</td>\n    </tr>\n    <tr>\n      <th>4</th>\n      <td>5</td>\n      <td>23</td>\n    </tr>\n  </tbody>\n</table>\n</div>"
     },
     "metadata": {},
     "execution_count": 15
    }
   ],
   "source": [
    "pd.read_sql_query('select * from nfl_stats_rankings', con=engine).head()"
   ]
  },
  {
   "cell_type": "code",
   "execution_count": null,
   "metadata": {},
   "outputs": [],
   "source": []
  }
 ]
}
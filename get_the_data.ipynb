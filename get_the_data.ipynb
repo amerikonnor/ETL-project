{
 "metadata": {
  "language_info": {
   "codemirror_mode": {
    "name": "ipython",
    "version": 3
   },
   "file_extension": ".py",
   "mimetype": "text/x-python",
   "name": "python",
   "nbconvert_exporter": "python",
   "pygments_lexer": "ipython3",
   "version": "3.8.3-final"
  },
  "orig_nbformat": 2,
  "kernelspec": {
   "name": "python3",
   "display_name": "Python 3",
   "language": "python"
  }
 },
 "nbformat": 4,
 "nbformat_minor": 2,
 "cells": [
  {
   "cell_type": "code",
   "execution_count": 1,
   "metadata": {},
   "outputs": [],
   "source": [
    "import pandas as pd\n",
    "import nfl_team_scraper\n",
    "\n"
   ]
  },
  {
   "cell_type": "code",
   "execution_count": 2,
   "metadata": {},
   "outputs": [
    {
     "output_type": "execute_result",
     "data": {
      "text/plain": [
       "   team_id          team_name\n",
       "0        1  Arizona Cardinals\n",
       "1        2    Atlanta Falcons\n",
       "2        3   Baltimore Ravens\n",
       "3        4      Buffalo Bills\n",
       "4        5  Carolina Panthers"
      ],
      "text/html": "<div>\n<style scoped>\n    .dataframe tbody tr th:only-of-type {\n        vertical-align: middle;\n    }\n\n    .dataframe tbody tr th {\n        vertical-align: top;\n    }\n\n    .dataframe thead th {\n        text-align: right;\n    }\n</style>\n<table border=\"1\" class=\"dataframe\">\n  <thead>\n    <tr style=\"text-align: right;\">\n      <th></th>\n      <th>team_id</th>\n      <th>team_name</th>\n    </tr>\n  </thead>\n  <tbody>\n    <tr>\n      <th>0</th>\n      <td>1</td>\n      <td>Arizona Cardinals</td>\n    </tr>\n    <tr>\n      <th>1</th>\n      <td>2</td>\n      <td>Atlanta Falcons</td>\n    </tr>\n    <tr>\n      <th>2</th>\n      <td>3</td>\n      <td>Baltimore Ravens</td>\n    </tr>\n    <tr>\n      <th>3</th>\n      <td>4</td>\n      <td>Buffalo Bills</td>\n    </tr>\n    <tr>\n      <th>4</th>\n      <td>5</td>\n      <td>Carolina Panthers</td>\n    </tr>\n  </tbody>\n</table>\n</div>"
     },
     "metadata": {},
     "execution_count": 2
    }
   ],
   "source": [
    "teams = pd.read_csv(\"resources/nfl_teams.csv\")\n",
    "teams.head()"
   ]
  },
  {
   "cell_type": "code",
   "execution_count": 3,
   "metadata": {},
   "outputs": [],
   "source": [
    "for team in teams.team_name:\n",
    "    nfl_team_scraper.scraper(team)\n"
   ]
  },
  {
   "cell_type": "code",
   "execution_count": null,
   "metadata": {},
   "outputs": [],
   "source": []
  }
 ]
}